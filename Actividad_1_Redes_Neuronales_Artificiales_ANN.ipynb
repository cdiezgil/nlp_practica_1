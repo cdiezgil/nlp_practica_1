{
 "nbformat": 4,
 "nbformat_minor": 0,
 "metadata": {
  "colab": {
   "provenance": []
  },
  "kernelspec": {
   "name": "python3",
   "language": "python",
   "display_name": "Python 3"
  },
  "language_info": {
   "name": "python"
  }
 },
 "cells": [
  {
   "cell_type": "markdown",
   "metadata": {
    "id": "iiDzBoKGwmMZ"
   },
   "source": [
    "# REDES NEURONALES\n",
    "\n",
    "---\n",
    "\n"
   ]
  },
  {
   "cell_type": "markdown",
   "source": [
    "## Introducción"
   ],
   "metadata": {
    "id": "GeO2xVqBv1fx"
   }
  },
  {
   "cell_type": "markdown",
   "source": [
    "\n",
    "\n",
    "En esta actividad vamos a utilizar una red neuronal para clasificar imágenes de prendas de ropa. Para ello, utilizaremos Keras con TensorFlow.\n",
    "\n",
    "El dataset a utilizar es Fashion MNIST, un problema sencillo con imágenes pequeñas de ropa, pero más interesante que el dataset de MNIST. Puedes consultar más información sobre el dataset en [este enlace](https://github.com/zalandoresearch/fashion-mnist).\n",
    "\n",
    "El código utilizado para contestar tiene que quedar claramente reflejado en el Notebook. Puedes crear nuevas celdas si así lo deseas para estructurar tu código y sus salidas. A la hora de entregar el notebook, **asegúrate de que los resultados de ejecutar tu código han quedado guardados**. Por ejemplo, a la hora de entrenar una red neuronal tiene que verse claramente un log de los resultados de cada epoch."
   ],
   "metadata": {
    "id": "hhzeF2BVvvi7"
   }
  },
  {
   "cell_type": "code",
   "metadata": {
    "id": "gSHr268SwmMa",
    "ExecuteTime": {
     "start_time": "2023-04-25T12:12:20.729306Z",
     "end_time": "2023-04-25T12:12:41.133939Z"
    }
   },
   "source": [
    "import keras\n",
    "from keras.datasets import fashion_mnist\n",
    "from keras.models import Sequential\n",
    "from keras.layers import Dense\n",
    "import tensorflow as tf\n",
    "\n",
    "import matplotlib.pyplot as plt"
   ],
   "execution_count": 1,
   "outputs": []
  },
  {
   "cell_type": "markdown",
   "metadata": {
    "id": "zScMKU2OKSPD"
   },
   "source": [
    "En primer lugar vamos a importar el dataset Fashion MNIST (recordad que este es uno de los dataset de entranamiento que estan guardados en keras) que es el que vamos a utilizar en esta actividad:"
   ]
  },
  {
   "cell_type": "code",
   "metadata": {
    "id": "4voG2hxxG4h3",
    "ExecuteTime": {
     "start_time": "2023-04-25T12:23:22.841083Z",
     "end_time": "2023-04-25T12:23:23.999436Z"
    }
   },
   "source": [
    "mnist = tf.keras.datasets.fashion_mnist"
   ],
   "execution_count": 2,
   "outputs": []
  },
  {
   "cell_type": "markdown",
   "metadata": {
    "id": "JphLsCvgKrzb"
   },
   "source": [
    "Llamar a **load_data** en este dataset nos dará dos conjuntos de dos listas, estos serán los valores de entrenamiento y prueba para los gráficos que contienen las prendas de vestir y sus etiquetas.\n",
    "\n",
    "Nota: Aunque en esta actividad lo veis de esta forma, también lo vais a poder encontrar como 4 variables de esta forma: training_images, training_labels, test_images, test_labels = mnist.load_data()"
   ]
  },
  {
   "cell_type": "code",
   "metadata": {
    "id": "1muD4PHEG4h6",
    "colab": {
     "base_uri": "https://localhost:8080/"
    },
    "outputId": "2f6beb46-3176-4adf-a64b-6dab9ea81bbe",
    "ExecuteTime": {
     "start_time": "2023-04-25T12:24:44.984039Z",
     "end_time": "2023-04-25T12:24:45.447206Z"
    }
   },
   "source": [
    "(training_images, training_labels), (test_images, test_labels) = mnist.load_data()"
   ],
   "execution_count": 3,
   "outputs": []
  },
  {
   "cell_type": "markdown",
   "metadata": {
    "id": "ZWGpJqVVLT3Y"
   },
   "source": [
    "Antes de continuar vamos a dar un vistazo a nuestro dataset, para ello vamos a ver una imagen de entrenamiento y su etiqueta o clase."
   ]
  },
  {
   "cell_type": "code",
   "metadata": {
    "id": "t5a5PlswG4h8",
    "colab": {
     "base_uri": "https://localhost:8080/",
     "height": 785
    },
    "outputId": "2edeb68d-fcba-4f20-c49a-f80a5c51b012",
    "ExecuteTime": {
     "start_time": "2023-04-25T12:24:48.017591Z",
     "end_time": "2023-04-25T12:24:48.280762Z"
    }
   },
   "source": [
    "import numpy as np\n",
    "np.set_printoptions(linewidth=200)\n",
    "import matplotlib.pyplot as plt\n",
    "plt.imshow(training_images[0], cmap=\"gray\") # recordad que siempre es preferible trabajar en blanco y negro\n",
    "#\n",
    "print(training_labels[0])\n",
    "print(training_images[0])"
   ],
   "execution_count": 4,
   "outputs": [
    {
     "name": "stdout",
     "output_type": "stream",
     "text": [
      "9\n",
      "[[  0   0   0   0   0   0   0   0   0   0   0   0   0   0   0   0   0   0   0   0   0   0   0   0   0   0   0   0]\n",
      " [  0   0   0   0   0   0   0   0   0   0   0   0   0   0   0   0   0   0   0   0   0   0   0   0   0   0   0   0]\n",
      " [  0   0   0   0   0   0   0   0   0   0   0   0   0   0   0   0   0   0   0   0   0   0   0   0   0   0   0   0]\n",
      " [  0   0   0   0   0   0   0   0   0   0   0   0   1   0   0  13  73   0   0   1   4   0   0   0   0   1   1   0]\n",
      " [  0   0   0   0   0   0   0   0   0   0   0   0   3   0  36 136 127  62  54   0   0   0   1   3   4   0   0   3]\n",
      " [  0   0   0   0   0   0   0   0   0   0   0   0   6   0 102 204 176 134 144 123  23   0   0   0   0  12  10   0]\n",
      " [  0   0   0   0   0   0   0   0   0   0   0   0   0   0 155 236 207 178 107 156 161 109  64  23  77 130  72  15]\n",
      " [  0   0   0   0   0   0   0   0   0   0   0   1   0  69 207 223 218 216 216 163 127 121 122 146 141  88 172  66]\n",
      " [  0   0   0   0   0   0   0   0   0   1   1   1   0 200 232 232 233 229 223 223 215 213 164 127 123 196 229   0]\n",
      " [  0   0   0   0   0   0   0   0   0   0   0   0   0 183 225 216 223 228 235 227 224 222 224 221 223 245 173   0]\n",
      " [  0   0   0   0   0   0   0   0   0   0   0   0   0 193 228 218 213 198 180 212 210 211 213 223 220 243 202   0]\n",
      " [  0   0   0   0   0   0   0   0   0   1   3   0  12 219 220 212 218 192 169 227 208 218 224 212 226 197 209  52]\n",
      " [  0   0   0   0   0   0   0   0   0   0   6   0  99 244 222 220 218 203 198 221 215 213 222 220 245 119 167  56]\n",
      " [  0   0   0   0   0   0   0   0   0   4   0   0  55 236 228 230 228 240 232 213 218 223 234 217 217 209  92   0]\n",
      " [  0   0   1   4   6   7   2   0   0   0   0   0 237 226 217 223 222 219 222 221 216 223 229 215 218 255  77   0]\n",
      " [  0   3   0   0   0   0   0   0   0  62 145 204 228 207 213 221 218 208 211 218 224 223 219 215 224 244 159   0]\n",
      " [  0   0   0   0  18  44  82 107 189 228 220 222 217 226 200 205 211 230 224 234 176 188 250 248 233 238 215   0]\n",
      " [  0  57 187 208 224 221 224 208 204 214 208 209 200 159 245 193 206 223 255 255 221 234 221 211 220 232 246   0]\n",
      " [  3 202 228 224 221 211 211 214 205 205 205 220 240  80 150 255 229 221 188 154 191 210 204 209 222 228 225   0]\n",
      " [ 98 233 198 210 222 229 229 234 249 220 194 215 217 241  65  73 106 117 168 219 221 215 217 223 223 224 229  29]\n",
      " [ 75 204 212 204 193 205 211 225 216 185 197 206 198 213 240 195 227 245 239 223 218 212 209 222 220 221 230  67]\n",
      " [ 48 203 183 194 213 197 185 190 194 192 202 214 219 221 220 236 225 216 199 206 186 181 177 172 181 205 206 115]\n",
      " [  0 122 219 193 179 171 183 196 204 210 213 207 211 210 200 196 194 191 195 191 198 192 176 156 167 177 210  92]\n",
      " [  0   0  74 189 212 191 175 172 175 181 185 188 189 188 193 198 204 209 210 210 211 188 188 194 192 216 170   0]\n",
      " [  2   0   0   0  66 200 222 237 239 242 246 243 244 221 220 193 191 179 182 182 181 176 166 168  99  58   0   0]\n",
      " [  0   0   0   0   0   0   0  40  61  44  72  41  35   0   0   0   0   0   0   0   0   0   0   0   0   0   0   0]\n",
      " [  0   0   0   0   0   0   0   0   0   0   0   0   0   0   0   0   0   0   0   0   0   0   0   0   0   0   0   0]\n",
      " [  0   0   0   0   0   0   0   0   0   0   0   0   0   0   0   0   0   0   0   0   0   0   0   0   0   0   0   0]]\n"
     ]
    },
    {
     "data": {
      "text/plain": "<Figure size 432x288 with 1 Axes>",
      "image/png": "[encoded data removed]"
     },
     "metadata": {
      "needs_background": "light"
     },
     "output_type": "display_data"
    }
   ]
  },
  {
   "cell_type": "markdown",
   "metadata": {
    "id": "WCJvZx3MLucY"
   },
   "source": [
    "Habréis notado que todos los valores numericos están entre 0 y 255. Si estamos entrenando una red neuronal, una buena practica es transformar todos los valores entre 0 y 1, un proceso llamado \"normalización\" y afortunadamente en Python es fácil normalizar una lista. Lo puedes hacer de esta manera:"
   ]
  },
  {
   "cell_type": "code",
   "metadata": {
    "id": "tojL1BmjG4h_",
    "ExecuteTime": {
     "start_time": "2023-04-25T12:24:51.658264Z",
     "end_time": "2023-04-25T12:24:52.248667Z"
    }
   },
   "source": [
    "training_images  = training_images / 255.0\n",
    "test_images = test_images / 255.0"
   ],
   "execution_count": 5,
   "outputs": []
  },
  {
   "cell_type": "markdown",
   "metadata": {
    "id": "BaqXlSMBwmMg"
   },
   "source": [
    "## 1. Información sobre el dataset"
   ]
  },
  {
   "cell_type": "markdown",
   "metadata": {
    "id": "e0aer8ZZwmMh"
   },
   "source": [
    "Una vez tenemos los datos cargados en memoria, vamos a obtener información sobre los mismos."
   ]
  },
  {
   "cell_type": "markdown",
   "metadata": {
    "id": "E-im9PnEwmMh"
   },
   "source": [
    "**Pregunta 1.1 *(0.25 puntos)*** ¿Cuántas imágenes hay de *training* y de *test*? ¿Qué tamaño tienen las imágenes?"
   ]
  },
  {
   "cell_type": "code",
   "metadata": {
    "id": "lvP0Y4SCwmMi",
    "ExecuteTime": {
     "start_time": "2023-04-25T12:24:55.061952Z",
     "end_time": "2023-04-25T12:24:55.108567Z"
    }
   },
   "source": [
    "### Tu código aquí ###\n",
    "print(training_images.shape)\n",
    "print(test_images.shape)\n"
   ],
   "execution_count": 6,
   "outputs": [
    {
     "name": "stdout",
     "output_type": "stream",
     "text": [
      "(60000, 28, 28)\n",
      "(10000, 28, 28)\n"
     ]
    }
   ]
  },
  {
   "cell_type": "markdown",
   "metadata": {
    "id": "Xwp5ljFKwmMj"
   },
   "source": [
    "*Tu respuesta aquí*\n",
    "\n",
    "Tenemos 60.000 imágenes de entrenamiento y 10.000 de test\n",
    "El tamaño de las imágenes en ambos casos es de 28x28"
   ]
  },
  {
   "cell_type": "markdown",
   "metadata": {
    "id": "F2LsvfHOwmMk"
   },
   "source": [
    "**Pregunta 1.2 *(0.25 puntos)*** Realizar una exploración de las variables que contienen los datos. Describir en qué consiste un example del dataset (qué información se guarda en cada imagen) y describir qué contiene la información en y."
   ]
  },
  {
   "cell_type": "code",
   "metadata": {
    "id": "3W5rzaGxwmMk",
    "ExecuteTime": {
     "start_time": "2023-04-25T12:24:58.283554Z",
     "end_time": "2023-04-25T12:24:59.078955Z"
    }
   },
   "source": [
    "### Tu código aquí ###\n",
    "import matplotlib.pyplot as plt\n",
    "\n",
    "print(\"Valor mínimo de los píxeles:\", np.min(training_images))\n",
    "print(\"Valor máximo de los píxeles:\", np.max(training_images))\n",
    "print(\"Valor promedio de los píxeles:\", np.mean(training_images))\n",
    "print(\"Desviación estándar de los píxeles:\", np.std(training_images))\n",
    "\n",
    "# Verificar el número de clases en el conjunto de entrenamiento\n",
    "num_classes = len(np.unique(training_labels))\n",
    "print(\"Número de clases en el conjunto de entrenamiento:\", num_classes)\n"
   ],
   "execution_count": 7,
   "outputs": [
    {
     "name": "stdout",
     "output_type": "stream",
     "text": [
      "Valor mínimo de los píxeles: 0.0\n",
      "Valor máximo de los píxeles: 1.0\n",
      "Valor promedio de los píxeles: 0.2860405969887955\n",
      "Desviación estándar de los píxeles: 0.35302424451492237\n",
      "Número de clases en el conjunto de entrenamiento: 10\n"
     ]
    }
   ]
  },
  {
   "cell_type": "markdown",
   "metadata": {
    "id": "zaEWKFyvwmMm"
   },
   "source": [
    "*Tu respuesta aquí*\n",
    "Cada fila tienen una imagen de 28x28 píxeles.\n",
    "Como hemos normalizado los datos, los pixeles contienen valores entre 0 y 1.\n",
    "La variable y contiene el número de clase de cada imagen.\n"
   ]
  },
  {
   "cell_type": "markdown",
   "source": [
    "## 2. Creación del Modelo"
   ],
   "metadata": {
    "id": "dI3IAhOQ8zHi"
   }
  },
  {
   "cell_type": "markdown",
   "metadata": {
    "id": "yYUWWsszMAKt"
   },
   "source": [
    "Ahora vamos a definir el modelo, pero antes vamos a repasar algunos comandos y conceptos muy útiles:\n",
    "* **Sequential**: Eso define una SECUENCIA de capas en la red neuronal\n",
    "* **Dense**: Añade una capa de neuronas\n",
    "* **Flatten**: ¿Recuerdas cómo eran las imágenes cuando las imprimiste para poder verlas? Un cuadrado, Flatten toma ese cuadrado y lo convierte en un vector de una dimensión.\n",
    "\n",
    "Cada capa de neuronas necesita una función de activación. Normalmente se usa la función relu en las capas intermedias y softmax en la ultima capa (en problemas de clasificación de más de dos items)\n",
    "* **Relu** significa que \"Si X>0 devuelve X, si no, devuelve 0\", así que lo que hace es pasar sólo valores 0 o mayores a la siguiente capa de la red.\n",
    "* **Softmax** toma un conjunto de valores, y escoge el más grande."
   ]
  },
  {
   "cell_type": "markdown",
   "metadata": {
    "id": "QgBW1yE2MwPp"
   },
   "source": [
    " **Pregunta 2.1 (2 puntos)**. Utilizando Keras, y preparando los datos de X e y como fuera necesario, define y entrena una red neuronal que sea capaz de clasificar imágenes de Fashion MNIST con las siguientes características:\n",
    "\n",
    "* Una hidden layer de tamaños 128, utilizando unidades sigmoid\n",
    "Optimizador Adam.\n",
    "* Durante el entrenamiento, la red tiene que mostrar resultados de loss y accuracy por cada epoch.\n",
    "* La red debe entrenar durante 10 epochs y batch size de 64.\n",
    "* La última capa debe de ser una capa softmax.\n",
    "* Tu red tendría que ser capaz de superar fácilmente 80% de accuracy."
   ]
  },
  {
   "cell_type": "code",
   "metadata": {
    "id": "aTaD2QXIORwu",
    "ExecuteTime": {
     "start_time": "2023-04-25T12:30:00.586881Z",
     "end_time": "2023-04-25T12:30:27.783364Z"
    }
   },
   "source": [
    "### Tu código para la red neuronal de la pregunta 2 aquí ###\n",
    "\n",
    "import tensorflow as tf\n",
    "print(tf.__version__)\n",
    "\n",
    "mnist = tf.keras.datasets.fashion_mnist\n",
    "(training_images, training_labels) ,  (test_images, test_labels) = mnist.load_data()\n",
    "\n",
    "training_images  = training_images / 255.0\n",
    "test_images = test_images / 255.0\n",
    "\n",
    "model = Sequential([\n",
    "    keras.layers.Flatten(input_shape=(28, 28)),\n",
    "    keras.layers.Dense(128, activation='sigmoid'),\n",
    "    keras.layers.Dense(10, activation='softmax')\n",
    "])\n",
    "\n",
    "model.compile(optimizer='adam',\n",
    "              loss='sparse_categorical_crossentropy',\n",
    "              metrics=['accuracy'])\n",
    "\n",
    "model.fit(training_images, training_labels, epochs=10, batch_size=64)"
   ],
   "execution_count": 13,
   "outputs": [
    {
     "name": "stdout",
     "output_type": "stream",
     "text": [
      "2.11.1\n",
      "Epoch 1/10\n",
      "938/938 [==============================] - 4s 3ms/step - loss: 0.6031 - accuracy: 0.8015\n",
      "Epoch 2/10\n",
      "938/938 [==============================] - 2s 3ms/step - loss: 0.4115 - accuracy: 0.8535\n",
      "Epoch 3/10\n",
      "938/938 [==============================] - 3s 3ms/step - loss: 0.3744 - accuracy: 0.8662\n",
      "Epoch 4/10\n",
      "938/938 [==============================] - 2s 2ms/step - loss: 0.3477 - accuracy: 0.8755\n",
      "Epoch 5/10\n",
      "938/938 [==============================] - 2s 2ms/step - loss: 0.3294 - accuracy: 0.8804\n",
      "Epoch 6/10\n",
      "938/938 [==============================] - 2s 2ms/step - loss: 0.3159 - accuracy: 0.8858\n",
      "Epoch 7/10\n",
      "938/938 [==============================] - 2s 2ms/step - loss: 0.3026 - accuracy: 0.8903\n",
      "Epoch 8/10\n",
      "938/938 [==============================] - 3s 3ms/step - loss: 0.2920 - accuracy: 0.8924\n",
      "Epoch 9/10\n",
      "938/938 [==============================] - 3s 3ms/step - loss: 0.2821 - accuracy: 0.8960\n",
      "Epoch 10/10\n",
      "938/938 [==============================] - 2s 2ms/step - loss: 0.2723 - accuracy: 0.8996\n"
     ]
    },
    {
     "data": {
      "text/plain": "<keras.callbacks.History at 0x7fe5ac195c70>"
     },
     "execution_count": 13,
     "metadata": {},
     "output_type": "execute_result"
    }
   ]
  },
  {
   "cell_type": "markdown",
   "metadata": {
    "id": "Bxr5hTKYOQnK"
   },
   "source": [
    "Para concluir el entrenamiento de la red neuronal, una buena práctica es evaluar el modelo para ver si la precisión de entrenamiento es real\n",
    "\n",
    "**pregunta 2.2 (0.5 puntos)**: Evalúa el modelo con las imágenes y etiquetas test."
   ]
  },
  {
   "cell_type": "code",
   "metadata": {
    "id": "VNjQEtUUG4iI",
    "ExecuteTime": {
     "start_time": "2023-04-25T12:30:37.877989Z",
     "end_time": "2023-04-25T12:30:38.598645Z"
    }
   },
   "source": [
    "### Tu código para la evaluación de la red neuronal de la pregunta 2 aquí ###\n",
    "test_loss, test_acc = model.evaluate(test_images, test_labels)\n",
    "print('Test accuracy:', test_acc)\n"
   ],
   "execution_count": 14,
   "outputs": [
    {
     "name": "stdout",
     "output_type": "stream",
     "text": [
      "313/313 [==============================] - 1s 2ms/step - loss: 0.3398 - accuracy: 0.8758\n",
      "Test accuracy: 0.8758000135421753\n"
     ]
    }
   ]
  },
  {
   "cell_type": "markdown",
   "metadata": {
    "id": "ygMVnmSYO83U"
   },
   "source": [
    "\n",
    "## 3: Funcionamiento de las predicción de la red neuronal\n",
    "\n"
   ]
  },
  {
   "cell_type": "markdown",
   "source": [
    "Ahora vamos a explorar el código con una serie de ejercicios para alcanzar un grado de comprensión mayor sobre las redes neuronales y su entrenamiento.\n",
    "\n",
    "Sigue los siguientes pasos: \n",
    "\n",
    "* Crea una variable llamada **classifications** para construir un clasificador con las imágenes de prueba, para ello puedes utilizar la función predict sobre el conjunto de test\n",
    "* Imprime con la función print la primera entrada en las clasificaciones. \n",
    "\n",
    "**pregunta 3.1 (0.25 puntos)**, el resultado al imprimirlo es un vector de números, \n",
    "* ¿Por qué crees que ocurre esto? ¿Qué representa este vector de números?\n",
    "\n",
    "**pregunta 3.2 (0.25 puntos)**\n",
    "* ¿Cúal es la clase de la primera entrada de la variable **classifications**? La respuesta puede ser un número o su etiqueta/clase equivalente."
   ],
   "metadata": {
    "id": "lMa-GR0Kvcqh"
   }
  },
  {
   "cell_type": "code",
   "metadata": {
    "id": "b-mL-h4xQhCm",
    "ExecuteTime": {
     "start_time": "2023-04-25T12:30:51.396011Z",
     "end_time": "2023-04-25T12:30:52.019433Z"
    }
   },
   "source": [
    "### Tu código del clasificador de la pregunta 3 aquí ###\n",
    "classifications = model.predict(test_images)\n",
    "print(classifications[0])\n",
    "class_names = [\"T-shirt/top\", \"Trouser\", \"Pullover\", \"Dress\", \"Coat\", \"Sandal\", \"Shirt\", \"Sneaker\", \"Bag\", \"Ankle boot\"]\n",
    "print(class_names[np.argmax(classifications[0])])"
   ],
   "execution_count": 15,
   "outputs": [
    {
     "name": "stdout",
     "output_type": "stream",
     "text": [
      "313/313 [==============================] - 0s 1ms/step\n",
      "[1.50937558e-05 1.26983196e-07 7.81150266e-06 4.36550954e-06 3.09566458e-05 4.60885130e-02 1.17068164e-04 4.28916290e-02 3.22573964e-04 9.10521865e-01]\n",
      "Ankle boot\n"
     ]
    }
   ]
  },
  {
   "cell_type": "markdown",
   "source": [
    "Tu respuesta a la pregunta 3.1 aquí:\n",
    "\n",
    "Como estamos construyendo un clasificador, el resultado es un vector de números que representan la probabilidad de que la imagen pertenezca a cada una de las clases.\n"
   ],
   "metadata": {
    "collapsed": false
   }
  },
  {
   "cell_type": "markdown",
   "metadata": {
    "id": "oRWo-75tdgv0"
   },
   "source": [
    "Tu respuesta a la pregunta 3.2 aquí:\n",
    "\n",
    "En este caso en concreto, la primera imagen tiene una probabilidad del 92% de pertenecer a la clase 9 (ankle boot)."
   ]
  },
  {
   "cell_type": "markdown",
   "metadata": {
    "id": "hiQ8qAzhRQ4L"
   },
   "source": [
    "## 4: Impacto variar el número de neuronas en las capas ocultas\n",
    "\n",
    "\n",
    "\n"
   ]
  },
  {
   "cell_type": "markdown",
   "source": [
    "En este ejercicio vamos a experimentar con nuestra red neuronal cambiando el numero de neuronas por 512 y por 1024. Para ello, utiliza la red neuronal de la pregunta 1, y en su capa oculta cambia las 128 neuronas por:\n",
    "\n",
    "* **512 neuronas en la capa oculta\n",
    "* **1024 neuronas en la capa oculta\n",
    "\n",
    "Entrena la red en ambos casos."
   ],
   "metadata": {
    "id": "Lsqive4ivMF9"
   }
  },
  {
   "cell_type": "code",
   "metadata": {
    "id": "cdP8ZwuaUV93",
    "ExecuteTime": {
     "start_time": "2023-04-25T12:32:39.115323Z",
     "end_time": "2023-04-25T12:33:27.380722Z"
    }
   },
   "source": [
    "### Tu código para 512 neuronas aquí ###\n",
    "\n",
    "import tensorflow as tf\n",
    "print(tf.__version__)\n",
    "\n",
    "mnist = tf.keras.datasets.fashion_mnist\n",
    "(training_images, training_labels) ,  (test_images, test_labels) = mnist.load_data()\n",
    "training_images  = training_images / 255.0\n",
    "test_images = test_images / 255.0\n",
    "\n",
    "model = Sequential([\n",
    "    keras.layers.Flatten(input_shape=(28, 28)),\n",
    "    keras.layers.Dense(512, activation='sigmoid'),\n",
    "    keras.layers.Dense(10, activation='softmax')\n",
    "])\n",
    "\n",
    "model.compile(optimizer='adam',\n",
    "              loss='sparse_categorical_crossentropy',\n",
    "              metrics=['accuracy'])\n",
    "\n",
    "model.fit(training_images, training_labels, epochs=10, batch_size=64)\n",
    "test_loss, test_acc = model.evaluate(test_images, test_labels)\n",
    "print('Test accuracy:', test_acc)"
   ],
   "execution_count": 16,
   "outputs": [
    {
     "name": "stdout",
     "output_type": "stream",
     "text": [
      "2.11.1\n",
      "Epoch 1/10\n",
      "938/938 [==============================] - 6s 5ms/step - loss: 0.5337 - accuracy: 0.8121\n",
      "Epoch 2/10\n",
      "938/938 [==============================] - 4s 5ms/step - loss: 0.4009 - accuracy: 0.8559\n",
      "Epoch 3/10\n",
      "938/938 [==============================] - 6s 6ms/step - loss: 0.3658 - accuracy: 0.8667\n",
      "Epoch 4/10\n",
      "938/938 [==============================] - 5s 6ms/step - loss: 0.3380 - accuracy: 0.8762\n",
      "Epoch 5/10\n",
      "938/938 [==============================] - 5s 5ms/step - loss: 0.3177 - accuracy: 0.8827\n",
      "Epoch 6/10\n",
      "938/938 [==============================] - 4s 4ms/step - loss: 0.2990 - accuracy: 0.8905\n",
      "Epoch 7/10\n",
      "938/938 [==============================] - 5s 5ms/step - loss: 0.2820 - accuracy: 0.8949\n",
      "Epoch 8/10\n",
      "938/938 [==============================] - 4s 4ms/step - loss: 0.2681 - accuracy: 0.9010\n",
      "Epoch 9/10\n",
      "938/938 [==============================] - 4s 4ms/step - loss: 0.2575 - accuracy: 0.9042\n",
      "Epoch 10/10\n",
      "938/938 [==============================] - 3s 3ms/step - loss: 0.2445 - accuracy: 0.9090\n",
      "313/313 [==============================] - 1s 1ms/step - loss: 0.3315 - accuracy: 0.8791\n",
      "Test accuracy: 0.8791000247001648\n"
     ]
    }
   ]
  },
  {
   "cell_type": "code",
   "metadata": {
    "id": "YXBlbbfuUaPa",
    "ExecuteTime": {
     "start_time": "2023-04-25T12:34:05.228014Z",
     "end_time": "2023-04-25T12:35:20.439347Z"
    }
   },
   "source": [
    "### Tu código para 1024 neuronas aquí ###\n",
    "\n",
    "import tensorflow as tf\n",
    "print(tf.__version__)\n",
    "\n",
    "mnist = tf.keras.datasets.fashion_mnist\n",
    "(training_images, training_labels) ,  (test_images, test_labels) = mnist.load_data()\n",
    "training_images  = training_images / 255.0\n",
    "test_images = test_images / 255.0\n",
    "\n",
    "model = Sequential([\n",
    "    keras.layers.Flatten(input_shape=(28, 28)),\n",
    "    keras.layers.Dense(1024, activation='sigmoid'),\n",
    "    keras.layers.Dense(10, activation='softmax')\n",
    "])\n",
    "\n",
    "model.compile(optimizer='adam',\n",
    "              loss='sparse_categorical_crossentropy',\n",
    "              metrics=['accuracy'])\n",
    "\n",
    "model.fit(training_images, training_labels, epochs=10, batch_size=64)\n",
    "test_loss, test_acc = model.evaluate(test_images, test_labels)\n",
    "print('Test accuracy:', test_acc)"
   ],
   "execution_count": 17,
   "outputs": [
    {
     "name": "stdout",
     "output_type": "stream",
     "text": [
      "2.11.1\n",
      "Epoch 1/10\n",
      "938/938 [==============================] - 7s 7ms/step - loss: 0.5220 - accuracy: 0.8134\n",
      "Epoch 2/10\n",
      "938/938 [==============================] - 7s 7ms/step - loss: 0.4012 - accuracy: 0.8559\n",
      "Epoch 3/10\n",
      "938/938 [==============================] - 7s 8ms/step - loss: 0.3616 - accuracy: 0.8691\n",
      "Epoch 4/10\n",
      "938/938 [==============================] - 9s 9ms/step - loss: 0.3375 - accuracy: 0.8773\n",
      "Epoch 5/10\n",
      "938/938 [==============================] - 7s 8ms/step - loss: 0.3145 - accuracy: 0.8839\n",
      "Epoch 6/10\n",
      "938/938 [==============================] - 7s 7ms/step - loss: 0.2924 - accuracy: 0.8927\n",
      "Epoch 7/10\n",
      "938/938 [==============================] - 8s 8ms/step - loss: 0.2795 - accuracy: 0.8956\n",
      "Epoch 8/10\n",
      "938/938 [==============================] - 7s 8ms/step - loss: 0.2643 - accuracy: 0.9010\n",
      "Epoch 9/10\n",
      "938/938 [==============================] - 7s 7ms/step - loss: 0.2496 - accuracy: 0.9061\n",
      "Epoch 10/10\n",
      "938/938 [==============================] - 7s 7ms/step - loss: 0.2396 - accuracy: 0.9100\n",
      "313/313 [==============================] - 1s 2ms/step - loss: 0.3455 - accuracy: 0.8750\n",
      "Test accuracy: 0.875\n"
     ]
    }
   ]
  },
  {
   "cell_type": "markdown",
   "metadata": {
    "id": "wG0h2HL-Uj93"
   },
   "source": [
    "**pregunta 4.1 (0.5 puntos)**: ¿Cuál es el impacto que tiene la red neuronal? "
   ]
  },
  {
   "cell_type": "markdown",
   "source": [
    "#Tu respuesta a la pregunta 4.1 aquí:\n",
    "El entrenamiento tarda mucho mas. Cuantas mas neuronas metemos en las hidden layers, mas tarda el\n",
    "entrenamiento\n",
    "En cuanto a los resultados:\n",
    "Entrenamiento 128--> loss: 0.2719 - accuracy: 0.9007\n",
    "Test 128         --> loss: 0.3345 - accuracy: 0.8786\n",
    "Entrenamiento 512--> loss: 0.2456 - accuracy: 0.9081\n",
    "Test 512         --> loss: 0.3245 - accuracy: 0.8825\n",
    "Entrenamiento1024--> loss: 0.2384 - accuracy: 0.9105\n",
    "Test 1024        --> loss: 0.3427 - accuracy: 0.8792\n",
    "\n",
    "Podemos ver que el accuracy mejora (poco, pero mejora) en entrenamiento, pero al ver los datos de test, vemos que con 512 si mejora un poco, pero con 1024 baja con respecto al resultado con 512 neuronas. Esto es debido a que estamos haciendo overfitting, es decir, estamos entrenando demasiado la red y no estamos generalizando bien."
   ],
   "metadata": {
    "collapsed": false
   }
  },
  {
   "cell_type": "markdown",
   "metadata": {
    "id": "b-NpUI9EVkVz"
   },
   "source": [
    "Si ahora entrenais el modelo de esta forma (con 512 y 1024 neuronas en la capa oculta) y volveis a ejecutar el predictor guardado en la variable **classifications**, escribir el código del clasificador del ejercicio 1 de nuevo e imprimid el primer objeto guardado en la variable classifications.\n",
    "\n",
    "**pregunta 4.2 (0.25 puntos)**: \n",
    "\n",
    "* ¿En qué clase está clasificado ahora la primera prenda de vestir de la variable classifications?\n",
    "\n",
    "**pregunta 4.3 (0.25 puntos)**: \n",
    "\n",
    "* ¿Por qué crees que ha ocurrido esto?"
   ]
  },
  {
   "cell_type": "code",
   "metadata": {
    "id": "RdJHl3V-G4iS",
    "ExecuteTime": {
     "start_time": "2023-04-25T12:35:57.607173Z",
     "end_time": "2023-04-25T12:36:47.433606Z"
    }
   },
   "source": [
    "### Tu código del clasificador de la pregunta 4 aquí ###\n",
    "\n",
    "import tensorflow as tf\n",
    "print(tf.__version__)\n",
    "\n",
    "mnist = tf.keras.datasets.fashion_mnist\n",
    "(training_images, training_labels) ,  (test_images, test_labels) = mnist.load_data()\n",
    "training_images  = training_images / 255.0\n",
    "test_images = test_images / 255.0\n",
    "\n",
    "model = Sequential([\n",
    "    keras.layers.Flatten(input_shape=(28, 28)),\n",
    "    keras.layers.Dense(512, activation='sigmoid'),\n",
    "    keras.layers.Dense(10, activation='softmax')\n",
    "])\n",
    "\n",
    "model.compile(optimizer='adam',\n",
    "              loss='sparse_categorical_crossentropy',\n",
    "              metrics=['accuracy'])\n",
    "\n",
    "model.fit(training_images, training_labels, epochs=10, batch_size=64)\n",
    "test_loss, test_acc = model.evaluate(test_images, test_labels)\n",
    "classifications = model.predict(test_images)\n",
    "print(\"con 512 predice: \" + class_names[np.argmax(classifications[0])])"
   ],
   "execution_count": 18,
   "outputs": [
    {
     "name": "stdout",
     "output_type": "stream",
     "text": [
      "2.11.1\n",
      "Epoch 1/10\n",
      "938/938 [==============================] - 6s 5ms/step - loss: 0.5343 - accuracy: 0.8117\n",
      "Epoch 2/10\n",
      "938/938 [==============================] - 5s 5ms/step - loss: 0.4013 - accuracy: 0.8558\n",
      "Epoch 3/10\n",
      "938/938 [==============================] - 6s 7ms/step - loss: 0.3642 - accuracy: 0.8686\n",
      "Epoch 4/10\n",
      "938/938 [==============================] - 6s 6ms/step - loss: 0.3375 - accuracy: 0.8771\n",
      "Epoch 5/10\n",
      "938/938 [==============================] - 4s 5ms/step - loss: 0.3163 - accuracy: 0.8845\n",
      "Epoch 6/10\n",
      "938/938 [==============================] - 4s 4ms/step - loss: 0.2990 - accuracy: 0.8903\n",
      "Epoch 7/10\n",
      "938/938 [==============================] - 4s 4ms/step - loss: 0.2842 - accuracy: 0.8960\n",
      "Epoch 8/10\n",
      "938/938 [==============================] - 4s 4ms/step - loss: 0.2704 - accuracy: 0.8994\n",
      "Epoch 9/10\n",
      "938/938 [==============================] - 4s 4ms/step - loss: 0.2567 - accuracy: 0.9055\n",
      "Epoch 10/10\n",
      "938/938 [==============================] - 4s 4ms/step - loss: 0.2462 - accuracy: 0.9082\n",
      "313/313 [==============================] - 1s 2ms/step - loss: 0.3208 - accuracy: 0.8863\n",
      "313/313 [==============================] - 1s 2ms/step\n",
      "con 512 predice: Ankle boot\n"
     ]
    }
   ]
  },
  {
   "cell_type": "code",
   "execution_count": 19,
   "outputs": [
    {
     "name": "stdout",
     "output_type": "stream",
     "text": [
      "2.11.1\n",
      "Epoch 1/10\n",
      "938/938 [==============================] - 8s 8ms/step - loss: 0.5235 - accuracy: 0.8134\n",
      "Epoch 2/10\n",
      "938/938 [==============================] - 7s 7ms/step - loss: 0.4030 - accuracy: 0.8548\n",
      "Epoch 3/10\n",
      "938/938 [==============================] - 7s 7ms/step - loss: 0.3627 - accuracy: 0.8690\n",
      "Epoch 4/10\n",
      "938/938 [==============================] - 7s 7ms/step - loss: 0.3344 - accuracy: 0.8782\n",
      "Epoch 5/10\n",
      "938/938 [==============================] - 7s 8ms/step - loss: 0.3121 - accuracy: 0.8853\n",
      "Epoch 6/10\n",
      "938/938 [==============================] - 7s 7ms/step - loss: 0.2956 - accuracy: 0.8905\n",
      "Epoch 7/10\n",
      "938/938 [==============================] - 6s 7ms/step - loss: 0.2785 - accuracy: 0.8974\n",
      "Epoch 8/10\n",
      "938/938 [==============================] - 7s 8ms/step - loss: 0.2629 - accuracy: 0.9023\n",
      "Epoch 9/10\n",
      "938/938 [==============================] - 8s 9ms/step - loss: 0.2500 - accuracy: 0.9071\n",
      "Epoch 10/10\n",
      "938/938 [==============================] - 8s 8ms/step - loss: 0.2371 - accuracy: 0.9122\n",
      "313/313 [==============================] - 1s 3ms/step - loss: 0.3396 - accuracy: 0.8794\n",
      "313/313 [==============================] - 1s 3ms/step\n",
      "con 1024 predice: Ankle boot\n"
     ]
    }
   ],
   "source": [
    "\n",
    "import tensorflow as tf\n",
    "print(tf.__version__)\n",
    "\n",
    "mnist = tf.keras.datasets.fashion_mnist\n",
    "(training_images, training_labels) ,  (test_images, test_labels) = mnist.load_data()\n",
    "training_images  = training_images / 255.0\n",
    "test_images = test_images / 255.0\n",
    "\n",
    "model = Sequential([\n",
    "    keras.layers.Flatten(input_shape=(28, 28)),\n",
    "    keras.layers.Dense(1024, activation='sigmoid'),\n",
    "    keras.layers.Dense(10, activation='softmax')\n",
    "])\n",
    "\n",
    "model.compile(optimizer='adam',\n",
    "              loss='sparse_categorical_crossentropy',\n",
    "              metrics=['accuracy'])\n",
    "\n",
    "model.fit(training_images, training_labels, epochs=10, batch_size=64)\n",
    "test_loss, test_acc = model.evaluate(test_images, test_labels)\n",
    "classifications = model.predict(test_images)\n",
    "print(\"con 1024 predice: \" + class_names[np.argmax(classifications[0])])"
   ],
   "metadata": {
    "collapsed": false,
    "ExecuteTime": {
     "start_time": "2023-04-25T12:36:53.009209Z",
     "end_time": "2023-04-25T12:38:08.441800Z"
    }
   }
  },
  {
   "cell_type": "markdown",
   "metadata": {
    "id": "P3NfwdOGZcAa"
   },
   "source": [
    "Tu respuesta a la pregunta 4.2 aquí:\n",
    "\n",
    "Se sigue clasificando ankle boot en ambos casos."
   ]
  },
  {
   "cell_type": "markdown",
   "metadata": {
    "id": "nFmfpxE1ZcJx"
   },
   "source": [
    "Tu respuesta a la pregunta 4.3 aquí:\n",
    "\n",
    "Pues creo que es así porque realmente es una bota, y lo está prediciendo bien en todos los casos, con un poco mas de precisión en un modelo que en otro, pero en ambos casos el resultado es el mismo."
   ]
  },
  {
   "cell_type": "markdown",
   "metadata": {
    "id": "59eM76O1YekZ"
   },
   "source": [
    "## 5: Capa Flatten\n",
    "\n",
    "\n"
   ]
  },
  {
   "cell_type": "markdown",
   "source": [
    "En este ejercicio vamos a ver que ocurre cuando quitamos la capa flatten, para ello, escribe la red neuronal de la pregunta 1 y no pongas la capa Flatten.\n",
    "\n",
    "**pregunta 5 (0.5 puntos):** ¿Puedes explicar a qué se debe el error que da?"
   ],
   "metadata": {
    "id": "a6LGnSxBu-ww"
   }
  },
  {
   "cell_type": "code",
   "metadata": {
    "id": "ecfEVKEuG4iU"
   },
   "source": [
    "### Tu código de la red neuronal sin capa flatten de la pregunta 6 aquí ###\n",
    "\n",
    "import tensorflow as tf\n",
    "print(tf.__version__)\n",
    "\n",
    "mnist = tf.keras.datasets.fashion_mnist\n",
    "(training_images, training_labels) ,  (test_images, test_labels) = mnist.load_data()\n",
    "training_images  = training_images / 255.0\n",
    "test_images = test_images / 255.0\n",
    "\n",
    "model = Sequential([\n",
    "    keras.layers.Dense(128, activation='sigmoid'),\n",
    "    keras.layers.Dense(10, activation='softmax')\n",
    "])\n",
    "\n",
    "model.compile(optimizer='adam',\n",
    "              loss='sparse_categorical_crossentropy',\n",
    "              metrics=['accuracy'])\n",
    "\n",
    "model.fit(training_images, training_labels, epochs=10, batch_size=64)\n"
   ],
   "execution_count": 20,
   "outputs": [
    {
     "name": "stdout",
     "output_type": "stream",
     "text": [
      "2.11.1\n",
      "Epoch 1/10\n"
     ]
    },
    {
     "ename": "InvalidArgumentError",
     "evalue": "Graph execution error:\n\nDetected at node 'sparse_categorical_crossentropy/SparseSoftmaxCrossEntropyWithLogits/SparseSoftmaxCrossEntropyWithLogits' defined at (most recent call last):\n    File \"/opt/anaconda3/lib/python3.8/runpy.py\", line 194, in _run_module_as_main\n      return _run_code(code, main_globals, None,\n    File \"/opt/anaconda3/lib/python3.8/runpy.py\", line 87, in _run_code\n      exec(code, run_globals)\n    File \"/opt/anaconda3/lib/python3.8/site-packages/ipykernel_launcher.py\", line 16, in <module>\n      app.launch_new_instance()\n    File \"/opt/anaconda3/lib/python3.8/site-packages/traitlets/config/application.py\", line 845, in launch_instance\n      app.start()\n    File \"/opt/anaconda3/lib/python3.8/site-packages/ipykernel/kernelapp.py\", line 612, in start\n      self.io_loop.start()\n    File \"/opt/anaconda3/lib/python3.8/site-packages/tornado/platform/asyncio.py\", line 199, in start\n      self.asyncio_loop.run_forever()\n    File \"/opt/anaconda3/lib/python3.8/asyncio/base_events.py\", line 570, in run_forever\n      self._run_once()\n    File \"/opt/anaconda3/lib/python3.8/asyncio/base_events.py\", line 1859, in _run_once\n      handle._run()\n    File \"/opt/anaconda3/lib/python3.8/asyncio/events.py\", line 81, in _run\n      self._context.run(self._callback, *self._args)\n    File \"/opt/anaconda3/lib/python3.8/site-packages/tornado/ioloop.py\", line 688, in <lambda>\n      lambda f: self._run_callback(functools.partial(callback, future))\n    File \"/opt/anaconda3/lib/python3.8/site-packages/tornado/ioloop.py\", line 741, in _run_callback\n      ret = callback()\n    File \"/opt/anaconda3/lib/python3.8/site-packages/tornado/gen.py\", line 814, in inner\n      self.ctx_run(self.run)\n    File \"/opt/anaconda3/lib/python3.8/site-packages/tornado/gen.py\", line 775, in run\n      yielded = self.gen.send(value)\n    File \"/opt/anaconda3/lib/python3.8/site-packages/ipykernel/kernelbase.py\", line 365, in process_one\n      yield gen.maybe_future(dispatch(*args))\n    File \"/opt/anaconda3/lib/python3.8/site-packages/tornado/gen.py\", line 234, in wrapper\n      yielded = ctx_run(next, result)\n    File \"/opt/anaconda3/lib/python3.8/site-packages/ipykernel/kernelbase.py\", line 268, in dispatch_shell\n      yield gen.maybe_future(handler(stream, idents, msg))\n    File \"/opt/anaconda3/lib/python3.8/site-packages/tornado/gen.py\", line 234, in wrapper\n      yielded = ctx_run(next, result)\n    File \"/opt/anaconda3/lib/python3.8/site-packages/ipykernel/kernelbase.py\", line 543, in execute_request\n      self.do_execute(\n    File \"/opt/anaconda3/lib/python3.8/site-packages/tornado/gen.py\", line 234, in wrapper\n      yielded = ctx_run(next, result)\n    File \"/opt/anaconda3/lib/python3.8/site-packages/ipykernel/ipkernel.py\", line 306, in do_execute\n      res = shell.run_cell(code, store_history=store_history, silent=silent)\n    File \"/opt/anaconda3/lib/python3.8/site-packages/ipykernel/zmqshell.py\", line 536, in run_cell\n      return super(ZMQInteractiveShell, self).run_cell(*args, **kwargs)\n    File \"/opt/anaconda3/lib/python3.8/site-packages/IPython/core/interactiveshell.py\", line 2894, in run_cell\n      result = self._run_cell(\n    File \"/opt/anaconda3/lib/python3.8/site-packages/IPython/core/interactiveshell.py\", line 2940, in _run_cell\n      return runner(coro)\n    File \"/opt/anaconda3/lib/python3.8/site-packages/IPython/core/async_helpers.py\", line 68, in _pseudo_sync_runner\n      coro.send(None)\n    File \"/opt/anaconda3/lib/python3.8/site-packages/IPython/core/interactiveshell.py\", line 3165, in run_cell_async\n      has_raised = await self.run_ast_nodes(code_ast.body, cell_name,\n    File \"/opt/anaconda3/lib/python3.8/site-packages/IPython/core/interactiveshell.py\", line 3357, in run_ast_nodes\n      if (await self.run_code(code, result,  async_=asy)):\n    File \"/opt/anaconda3/lib/python3.8/site-packages/IPython/core/interactiveshell.py\", line 3437, in run_code\n      exec(code_obj, self.user_global_ns, self.user_ns)\n    File \"<ipython-input-20-42cf9608b78a>\", line 20, in <module>\n      model.fit(training_images, training_labels, epochs=10, batch_size=64)\n    File \"/opt/anaconda3/lib/python3.8/site-packages/keras/utils/traceback_utils.py\", line 65, in error_handler\n      return fn(*args, **kwargs)\n    File \"/opt/anaconda3/lib/python3.8/site-packages/keras/engine/training.py\", line 1650, in fit\n      tmp_logs = self.train_function(iterator)\n    File \"/opt/anaconda3/lib/python3.8/site-packages/keras/engine/training.py\", line 1249, in train_function\n      return step_function(self, iterator)\n    File \"/opt/anaconda3/lib/python3.8/site-packages/keras/engine/training.py\", line 1233, in step_function\n      outputs = model.distribute_strategy.run(run_step, args=(data,))\n    File \"/opt/anaconda3/lib/python3.8/site-packages/keras/engine/training.py\", line 1222, in run_step\n      outputs = model.train_step(data)\n    File \"/opt/anaconda3/lib/python3.8/site-packages/keras/engine/training.py\", line 1024, in train_step\n      loss = self.compute_loss(x, y, y_pred, sample_weight)\n    File \"/opt/anaconda3/lib/python3.8/site-packages/keras/engine/training.py\", line 1082, in compute_loss\n      return self.compiled_loss(\n    File \"/opt/anaconda3/lib/python3.8/site-packages/keras/engine/compile_utils.py\", line 265, in __call__\n      loss_value = loss_obj(y_t, y_p, sample_weight=sw)\n    File \"/opt/anaconda3/lib/python3.8/site-packages/keras/losses.py\", line 152, in __call__\n      losses = call_fn(y_true, y_pred)\n    File \"/opt/anaconda3/lib/python3.8/site-packages/keras/losses.py\", line 284, in call\n      return ag_fn(y_true, y_pred, **self._fn_kwargs)\n    File \"/opt/anaconda3/lib/python3.8/site-packages/keras/losses.py\", line 2098, in sparse_categorical_crossentropy\n      return backend.sparse_categorical_crossentropy(\n    File \"/opt/anaconda3/lib/python3.8/site-packages/keras/backend.py\", line 5633, in sparse_categorical_crossentropy\n      res = tf.nn.sparse_softmax_cross_entropy_with_logits(\nNode: 'sparse_categorical_crossentropy/SparseSoftmaxCrossEntropyWithLogits/SparseSoftmaxCrossEntropyWithLogits'\nlogits and labels must have the same first dimension, got logits shape [1792,10] and labels shape [64]\n\t [[{{node sparse_categorical_crossentropy/SparseSoftmaxCrossEntropyWithLogits/SparseSoftmaxCrossEntropyWithLogits}}]] [Op:__inference_train_function_330031]",
     "output_type": "error",
     "traceback": [
      "\u001B[0;31m---------------------------------------------------------------------------\u001B[0m",
      "\u001B[0;31mInvalidArgumentError\u001B[0m                      Traceback (most recent call last)",
      "\u001B[0;32m<ipython-input-20-42cf9608b78a>\u001B[0m in \u001B[0;36m<module>\u001B[0;34m\u001B[0m\n\u001B[1;32m     18\u001B[0m               metrics=['accuracy'])\n\u001B[1;32m     19\u001B[0m \u001B[0;34m\u001B[0m\u001B[0m\n\u001B[0;32m---> 20\u001B[0;31m \u001B[0mmodel\u001B[0m\u001B[0;34m.\u001B[0m\u001B[0mfit\u001B[0m\u001B[0;34m(\u001B[0m\u001B[0mtraining_images\u001B[0m\u001B[0;34m,\u001B[0m \u001B[0mtraining_labels\u001B[0m\u001B[0;34m,\u001B[0m \u001B[0mepochs\u001B[0m\u001B[0;34m=\u001B[0m\u001B[0;36m10\u001B[0m\u001B[0;34m,\u001B[0m \u001B[0mbatch_size\u001B[0m\u001B[0;34m=\u001B[0m\u001B[0;36m64\u001B[0m\u001B[0;34m)\u001B[0m\u001B[0;34m\u001B[0m\u001B[0;34m\u001B[0m\u001B[0m\n\u001B[0m\u001B[1;32m     21\u001B[0m \u001B[0;34m\u001B[0m\u001B[0m\n",
      "\u001B[0;32m/opt/anaconda3/lib/python3.8/site-packages/keras/utils/traceback_utils.py\u001B[0m in \u001B[0;36merror_handler\u001B[0;34m(*args, **kwargs)\u001B[0m\n\u001B[1;32m     68\u001B[0m             \u001B[0;31m# To get the full stack trace, call:\u001B[0m\u001B[0;34m\u001B[0m\u001B[0;34m\u001B[0m\u001B[0;34m\u001B[0m\u001B[0m\n\u001B[1;32m     69\u001B[0m             \u001B[0;31m# `tf.debugging.disable_traceback_filtering()`\u001B[0m\u001B[0;34m\u001B[0m\u001B[0;34m\u001B[0m\u001B[0;34m\u001B[0m\u001B[0m\n\u001B[0;32m---> 70\u001B[0;31m             \u001B[0;32mraise\u001B[0m \u001B[0me\u001B[0m\u001B[0;34m.\u001B[0m\u001B[0mwith_traceback\u001B[0m\u001B[0;34m(\u001B[0m\u001B[0mfiltered_tb\u001B[0m\u001B[0;34m)\u001B[0m \u001B[0;32mfrom\u001B[0m \u001B[0;32mNone\u001B[0m\u001B[0;34m\u001B[0m\u001B[0;34m\u001B[0m\u001B[0m\n\u001B[0m\u001B[1;32m     71\u001B[0m         \u001B[0;32mfinally\u001B[0m\u001B[0;34m:\u001B[0m\u001B[0;34m\u001B[0m\u001B[0;34m\u001B[0m\u001B[0m\n\u001B[1;32m     72\u001B[0m             \u001B[0;32mdel\u001B[0m \u001B[0mfiltered_tb\u001B[0m\u001B[0;34m\u001B[0m\u001B[0;34m\u001B[0m\u001B[0m\n",
      "\u001B[0;32m/opt/anaconda3/lib/python3.8/site-packages/tensorflow/python/eager/execute.py\u001B[0m in \u001B[0;36mquick_execute\u001B[0;34m(op_name, num_outputs, inputs, attrs, ctx, name)\u001B[0m\n\u001B[1;32m     50\u001B[0m   \u001B[0;32mtry\u001B[0m\u001B[0;34m:\u001B[0m\u001B[0;34m\u001B[0m\u001B[0;34m\u001B[0m\u001B[0m\n\u001B[1;32m     51\u001B[0m     \u001B[0mctx\u001B[0m\u001B[0;34m.\u001B[0m\u001B[0mensure_initialized\u001B[0m\u001B[0;34m(\u001B[0m\u001B[0;34m)\u001B[0m\u001B[0;34m\u001B[0m\u001B[0;34m\u001B[0m\u001B[0m\n\u001B[0;32m---> 52\u001B[0;31m     tensors = pywrap_tfe.TFE_Py_Execute(ctx._handle, device_name, op_name,\n\u001B[0m\u001B[1;32m     53\u001B[0m                                         inputs, attrs, num_outputs)\n\u001B[1;32m     54\u001B[0m   \u001B[0;32mexcept\u001B[0m \u001B[0mcore\u001B[0m\u001B[0;34m.\u001B[0m\u001B[0m_NotOkStatusException\u001B[0m \u001B[0;32mas\u001B[0m \u001B[0me\u001B[0m\u001B[0;34m:\u001B[0m\u001B[0;34m\u001B[0m\u001B[0;34m\u001B[0m\u001B[0m\n",
      "\u001B[0;31mInvalidArgumentError\u001B[0m: Graph execution error:\n\nDetected at node 'sparse_categorical_crossentropy/SparseSoftmaxCrossEntropyWithLogits/SparseSoftmaxCrossEntropyWithLogits' defined at (most recent call last):\n    File \"/opt/anaconda3/lib/python3.8/runpy.py\", line 194, in _run_module_as_main\n      return _run_code(code, main_globals, None,\n    File \"/opt/anaconda3/lib/python3.8/runpy.py\", line 87, in _run_code\n      exec(code, run_globals)\n    File \"/opt/anaconda3/lib/python3.8/site-packages/ipykernel_launcher.py\", line 16, in <module>\n      app.launch_new_instance()\n    File \"/opt/anaconda3/lib/python3.8/site-packages/traitlets/config/application.py\", line 845, in launch_instance\n      app.start()\n    File \"/opt/anaconda3/lib/python3.8/site-packages/ipykernel/kernelapp.py\", line 612, in start\n      self.io_loop.start()\n    File \"/opt/anaconda3/lib/python3.8/site-packages/tornado/platform/asyncio.py\", line 199, in start\n      self.asyncio_loop.run_forever()\n    File \"/opt/anaconda3/lib/python3.8/asyncio/base_events.py\", line 570, in run_forever\n      self._run_once()\n    File \"/opt/anaconda3/lib/python3.8/asyncio/base_events.py\", line 1859, in _run_once\n      handle._run()\n    File \"/opt/anaconda3/lib/python3.8/asyncio/events.py\", line 81, in _run\n      self._context.run(self._callback, *self._args)\n    File \"/opt/anaconda3/lib/python3.8/site-packages/tornado/ioloop.py\", line 688, in <lambda>\n      lambda f: self._run_callback(functools.partial(callback, future))\n    File \"/opt/anaconda3/lib/python3.8/site-packages/tornado/ioloop.py\", line 741, in _run_callback\n      ret = callback()\n    File \"/opt/anaconda3/lib/python3.8/site-packages/tornado/gen.py\", line 814, in inner\n      self.ctx_run(self.run)\n    File \"/opt/anaconda3/lib/python3.8/site-packages/tornado/gen.py\", line 775, in run\n      yielded = self.gen.send(value)\n    File \"/opt/anaconda3/lib/python3.8/site-packages/ipykernel/kernelbase.py\", line 365, in process_one\n      yield gen.maybe_future(dispatch(*args))\n    File \"/opt/anaconda3/lib/python3.8/site-packages/tornado/gen.py\", line 234, in wrapper\n      yielded = ctx_run(next, result)\n    File \"/opt/anaconda3/lib/python3.8/site-packages/ipykernel/kernelbase.py\", line 268, in dispatch_shell\n      yield gen.maybe_future(handler(stream, idents, msg))\n    File \"/opt/anaconda3/lib/python3.8/site-packages/tornado/gen.py\", line 234, in wrapper\n      yielded = ctx_run(next, result)\n    File \"/opt/anaconda3/lib/python3.8/site-packages/ipykernel/kernelbase.py\", line 543, in execute_request\n      self.do_execute(\n    File \"/opt/anaconda3/lib/python3.8/site-packages/tornado/gen.py\", line 234, in wrapper\n      yielded = ctx_run(next, result)\n    File \"/opt/anaconda3/lib/python3.8/site-packages/ipykernel/ipkernel.py\", line 306, in do_execute\n      res = shell.run_cell(code, store_history=store_history, silent=silent)\n    File \"/opt/anaconda3/lib/python3.8/site-packages/ipykernel/zmqshell.py\", line 536, in run_cell\n      return super(ZMQInteractiveShell, self).run_cell(*args, **kwargs)\n    File \"/opt/anaconda3/lib/python3.8/site-packages/IPython/core/interactiveshell.py\", line 2894, in run_cell\n      result = self._run_cell(\n    File \"/opt/anaconda3/lib/python3.8/site-packages/IPython/core/interactiveshell.py\", line 2940, in _run_cell\n      return runner(coro)\n    File \"/opt/anaconda3/lib/python3.8/site-packages/IPython/core/async_helpers.py\", line 68, in _pseudo_sync_runner\n      coro.send(None)\n    File \"/opt/anaconda3/lib/python3.8/site-packages/IPython/core/interactiveshell.py\", line 3165, in run_cell_async\n      has_raised = await self.run_ast_nodes(code_ast.body, cell_name,\n    File \"/opt/anaconda3/lib/python3.8/site-packages/IPython/core/interactiveshell.py\", line 3357, in run_ast_nodes\n      if (await self.run_code(code, result,  async_=asy)):\n    File \"/opt/anaconda3/lib/python3.8/site-packages/IPython/core/interactiveshell.py\", line 3437, in run_code\n      exec(code_obj, self.user_global_ns, self.user_ns)\n    File \"<ipython-input-20-42cf9608b78a>\", line 20, in <module>\n      model.fit(training_images, training_labels, epochs=10, batch_size=64)\n    File \"/opt/anaconda3/lib/python3.8/site-packages/keras/utils/traceback_utils.py\", line 65, in error_handler\n      return fn(*args, **kwargs)\n    File \"/opt/anaconda3/lib/python3.8/site-packages/keras/engine/training.py\", line 1650, in fit\n      tmp_logs = self.train_function(iterator)\n    File \"/opt/anaconda3/lib/python3.8/site-packages/keras/engine/training.py\", line 1249, in train_function\n      return step_function(self, iterator)\n    File \"/opt/anaconda3/lib/python3.8/site-packages/keras/engine/training.py\", line 1233, in step_function\n      outputs = model.distribute_strategy.run(run_step, args=(data,))\n    File \"/opt/anaconda3/lib/python3.8/site-packages/keras/engine/training.py\", line 1222, in run_step\n      outputs = model.train_step(data)\n    File \"/opt/anaconda3/lib/python3.8/site-packages/keras/engine/training.py\", line 1024, in train_step\n      loss = self.compute_loss(x, y, y_pred, sample_weight)\n    File \"/opt/anaconda3/lib/python3.8/site-packages/keras/engine/training.py\", line 1082, in compute_loss\n      return self.compiled_loss(\n    File \"/opt/anaconda3/lib/python3.8/site-packages/keras/engine/compile_utils.py\", line 265, in __call__\n      loss_value = loss_obj(y_t, y_p, sample_weight=sw)\n    File \"/opt/anaconda3/lib/python3.8/site-packages/keras/losses.py\", line 152, in __call__\n      losses = call_fn(y_true, y_pred)\n    File \"/opt/anaconda3/lib/python3.8/site-packages/keras/losses.py\", line 284, in call\n      return ag_fn(y_true, y_pred, **self._fn_kwargs)\n    File \"/opt/anaconda3/lib/python3.8/site-packages/keras/losses.py\", line 2098, in sparse_categorical_crossentropy\n      return backend.sparse_categorical_crossentropy(\n    File \"/opt/anaconda3/lib/python3.8/site-packages/keras/backend.py\", line 5633, in sparse_categorical_crossentropy\n      res = tf.nn.sparse_softmax_cross_entropy_with_logits(\nNode: 'sparse_categorical_crossentropy/SparseSoftmaxCrossEntropyWithLogits/SparseSoftmaxCrossEntropyWithLogits'\nlogits and labels must have the same first dimension, got logits shape [1792,10] and labels shape [64]\n\t [[{{node sparse_categorical_crossentropy/SparseSoftmaxCrossEntropyWithLogits/SparseSoftmaxCrossEntropyWithLogits}}]] [Op:__inference_train_function_330031]"
     ]
    }
   ]
  },
  {
   "cell_type": "markdown",
   "metadata": {
    "id": "-aNmrkkOZN6D"
   },
   "source": [
    "Tu respuesta a la pregunta 5 aquí:\n",
    "\n",
    "La capa flatten es la que convierte la imagen en un vector, \"aplana\" las matrices de 28x28 en un vector. Al eliminar la capa flatten, la red no sabe como interpretar la imagen, y por eso da error."
   ]
  },
  {
   "cell_type": "markdown",
   "metadata": {
    "id": "f37cIr81ZYJj"
   },
   "source": [
    "## 6: Número de neuronas de la capa de salida\n"
   ]
  },
  {
   "cell_type": "markdown",
   "source": [
    "Considerad la capa final, la de salida de la red neuronal de la pregunta 1.\n",
    "\n",
    "**pregunta 6.1 (0.25 puntos)**: ¿Por qué son 10 las neuronas de la última capa?\n",
    "\n",
    "**pregunta 6.2 (0.25 puntos)**: ¿Qué pasaría si tuvieras una cantidad diferente a 10? \n",
    "\n",
    "Por ejemplo, intenta entrenar la red con 5, para ello utiliza la red neuronal de la pregunta 1 y cambia a 5 el número de neuronas en la última capa."
   ],
   "metadata": {
    "id": "Zk1xYVAQu0wN"
   }
  },
  {
   "cell_type": "code",
   "metadata": {
    "id": "FhbZkppYZOCS"
   },
   "source": [
    "### Tu código de la red neuronal con 5 neuronas en la capa de salida de la pregunta 7 aquí ###\n",
    "\n",
    "import tensorflow as tf\n",
    "print(tf.__version__)\n",
    "\n",
    "mnist = tf.keras.datasets.fashion_mnist\n",
    "(training_images, training_labels) ,  (test_images, test_labels) = mnist.load_data()\n",
    "training_images  = training_images / 255.0\n",
    "test_images = test_images / 255.0\n",
    "\n",
    "model = Sequential([\n",
    "    keras.layers.Flatten(input_shape=(28, 28)),\n",
    "    keras.layers.Dense(128, activation='sigmoid'),\n",
    "    keras.layers.Dense(5, activation='softmax')\n",
    "])\n",
    "\n",
    "model.compile(optimizer='adam',\n",
    "              loss='sparse_categorical_crossentropy',\n",
    "              metrics=['accuracy'])\n",
    "\n",
    "model.fit(training_images, training_labels, epochs=10, batch_size=64)\n"
   ],
   "execution_count": 21,
   "outputs": [
    {
     "name": "stdout",
     "output_type": "stream",
     "text": [
      "2.11.1\n",
      "Epoch 1/10\n"
     ]
    },
    {
     "ename": "InvalidArgumentError",
     "evalue": "Graph execution error:\n\nDetected at node 'sparse_categorical_crossentropy/SparseSoftmaxCrossEntropyWithLogits/SparseSoftmaxCrossEntropyWithLogits' defined at (most recent call last):\n    File \"/opt/anaconda3/lib/python3.8/runpy.py\", line 194, in _run_module_as_main\n      return _run_code(code, main_globals, None,\n    File \"/opt/anaconda3/lib/python3.8/runpy.py\", line 87, in _run_code\n      exec(code, run_globals)\n    File \"/opt/anaconda3/lib/python3.8/site-packages/ipykernel_launcher.py\", line 16, in <module>\n      app.launch_new_instance()\n    File \"/opt/anaconda3/lib/python3.8/site-packages/traitlets/config/application.py\", line 845, in launch_instance\n      app.start()\n    File \"/opt/anaconda3/lib/python3.8/site-packages/ipykernel/kernelapp.py\", line 612, in start\n      self.io_loop.start()\n    File \"/opt/anaconda3/lib/python3.8/site-packages/tornado/platform/asyncio.py\", line 199, in start\n      self.asyncio_loop.run_forever()\n    File \"/opt/anaconda3/lib/python3.8/asyncio/base_events.py\", line 570, in run_forever\n      self._run_once()\n    File \"/opt/anaconda3/lib/python3.8/asyncio/base_events.py\", line 1859, in _run_once\n      handle._run()\n    File \"/opt/anaconda3/lib/python3.8/asyncio/events.py\", line 81, in _run\n      self._context.run(self._callback, *self._args)\n    File \"/opt/anaconda3/lib/python3.8/site-packages/tornado/ioloop.py\", line 688, in <lambda>\n      lambda f: self._run_callback(functools.partial(callback, future))\n    File \"/opt/anaconda3/lib/python3.8/site-packages/tornado/ioloop.py\", line 741, in _run_callback\n      ret = callback()\n    File \"/opt/anaconda3/lib/python3.8/site-packages/tornado/gen.py\", line 814, in inner\n      self.ctx_run(self.run)\n    File \"/opt/anaconda3/lib/python3.8/site-packages/tornado/gen.py\", line 775, in run\n      yielded = self.gen.send(value)\n    File \"/opt/anaconda3/lib/python3.8/site-packages/ipykernel/kernelbase.py\", line 365, in process_one\n      yield gen.maybe_future(dispatch(*args))\n    File \"/opt/anaconda3/lib/python3.8/site-packages/tornado/gen.py\", line 234, in wrapper\n      yielded = ctx_run(next, result)\n    File \"/opt/anaconda3/lib/python3.8/site-packages/ipykernel/kernelbase.py\", line 268, in dispatch_shell\n      yield gen.maybe_future(handler(stream, idents, msg))\n    File \"/opt/anaconda3/lib/python3.8/site-packages/tornado/gen.py\", line 234, in wrapper\n      yielded = ctx_run(next, result)\n    File \"/opt/anaconda3/lib/python3.8/site-packages/ipykernel/kernelbase.py\", line 543, in execute_request\n      self.do_execute(\n    File \"/opt/anaconda3/lib/python3.8/site-packages/tornado/gen.py\", line 234, in wrapper\n      yielded = ctx_run(next, result)\n    File \"/opt/anaconda3/lib/python3.8/site-packages/ipykernel/ipkernel.py\", line 306, in do_execute\n      res = shell.run_cell(code, store_history=store_history, silent=silent)\n    File \"/opt/anaconda3/lib/python3.8/site-packages/ipykernel/zmqshell.py\", line 536, in run_cell\n      return super(ZMQInteractiveShell, self).run_cell(*args, **kwargs)\n    File \"/opt/anaconda3/lib/python3.8/site-packages/IPython/core/interactiveshell.py\", line 2894, in run_cell\n      result = self._run_cell(\n    File \"/opt/anaconda3/lib/python3.8/site-packages/IPython/core/interactiveshell.py\", line 2940, in _run_cell\n      return runner(coro)\n    File \"/opt/anaconda3/lib/python3.8/site-packages/IPython/core/async_helpers.py\", line 68, in _pseudo_sync_runner\n      coro.send(None)\n    File \"/opt/anaconda3/lib/python3.8/site-packages/IPython/core/interactiveshell.py\", line 3165, in run_cell_async\n      has_raised = await self.run_ast_nodes(code_ast.body, cell_name,\n    File \"/opt/anaconda3/lib/python3.8/site-packages/IPython/core/interactiveshell.py\", line 3357, in run_ast_nodes\n      if (await self.run_code(code, result,  async_=asy)):\n    File \"/opt/anaconda3/lib/python3.8/site-packages/IPython/core/interactiveshell.py\", line 3437, in run_code\n      exec(code_obj, self.user_global_ns, self.user_ns)\n    File \"<ipython-input-21-6fb6958fd0d3>\", line 21, in <module>\n      model.fit(training_images, training_labels, epochs=10, batch_size=64)\n    File \"/opt/anaconda3/lib/python3.8/site-packages/keras/utils/traceback_utils.py\", line 65, in error_handler\n      return fn(*args, **kwargs)\n    File \"/opt/anaconda3/lib/python3.8/site-packages/keras/engine/training.py\", line 1650, in fit\n      tmp_logs = self.train_function(iterator)\n    File \"/opt/anaconda3/lib/python3.8/site-packages/keras/engine/training.py\", line 1249, in train_function\n      return step_function(self, iterator)\n    File \"/opt/anaconda3/lib/python3.8/site-packages/keras/engine/training.py\", line 1233, in step_function\n      outputs = model.distribute_strategy.run(run_step, args=(data,))\n    File \"/opt/anaconda3/lib/python3.8/site-packages/keras/engine/training.py\", line 1222, in run_step\n      outputs = model.train_step(data)\n    File \"/opt/anaconda3/lib/python3.8/site-packages/keras/engine/training.py\", line 1024, in train_step\n      loss = self.compute_loss(x, y, y_pred, sample_weight)\n    File \"/opt/anaconda3/lib/python3.8/site-packages/keras/engine/training.py\", line 1082, in compute_loss\n      return self.compiled_loss(\n    File \"/opt/anaconda3/lib/python3.8/site-packages/keras/engine/compile_utils.py\", line 265, in __call__\n      loss_value = loss_obj(y_t, y_p, sample_weight=sw)\n    File \"/opt/anaconda3/lib/python3.8/site-packages/keras/losses.py\", line 152, in __call__\n      losses = call_fn(y_true, y_pred)\n    File \"/opt/anaconda3/lib/python3.8/site-packages/keras/losses.py\", line 284, in call\n      return ag_fn(y_true, y_pred, **self._fn_kwargs)\n    File \"/opt/anaconda3/lib/python3.8/site-packages/keras/losses.py\", line 2098, in sparse_categorical_crossentropy\n      return backend.sparse_categorical_crossentropy(\n    File \"/opt/anaconda3/lib/python3.8/site-packages/keras/backend.py\", line 5633, in sparse_categorical_crossentropy\n      res = tf.nn.sparse_softmax_cross_entropy_with_logits(\nNode: 'sparse_categorical_crossentropy/SparseSoftmaxCrossEntropyWithLogits/SparseSoftmaxCrossEntropyWithLogits'\nReceived a label value of 9 which is outside the valid range of [0, 5).  Label values: 7 3 7 5 0 0 9 8 9 6 8 6 0 7 6 9 4 1 2 0 5 8 0 7 8 2 3 3 2 1 3 3 7 8 1 0 8 8 3 0 1 8 5 5 1 1 7 1 0 1 8 0 5 5 2 7 0 0 1 9 0 4 3 9\n\t [[{{node sparse_categorical_crossentropy/SparseSoftmaxCrossEntropyWithLogits/SparseSoftmaxCrossEntropyWithLogits}}]] [Op:__inference_train_function_330807]",
     "output_type": "error",
     "traceback": [
      "\u001B[0;31m---------------------------------------------------------------------------\u001B[0m",
      "\u001B[0;31mInvalidArgumentError\u001B[0m                      Traceback (most recent call last)",
      "\u001B[0;32m<ipython-input-21-6fb6958fd0d3>\u001B[0m in \u001B[0;36m<module>\u001B[0;34m\u001B[0m\n\u001B[1;32m     19\u001B[0m               metrics=['accuracy'])\n\u001B[1;32m     20\u001B[0m \u001B[0;34m\u001B[0m\u001B[0m\n\u001B[0;32m---> 21\u001B[0;31m \u001B[0mmodel\u001B[0m\u001B[0;34m.\u001B[0m\u001B[0mfit\u001B[0m\u001B[0;34m(\u001B[0m\u001B[0mtraining_images\u001B[0m\u001B[0;34m,\u001B[0m \u001B[0mtraining_labels\u001B[0m\u001B[0;34m,\u001B[0m \u001B[0mepochs\u001B[0m\u001B[0;34m=\u001B[0m\u001B[0;36m10\u001B[0m\u001B[0;34m,\u001B[0m \u001B[0mbatch_size\u001B[0m\u001B[0;34m=\u001B[0m\u001B[0;36m64\u001B[0m\u001B[0;34m)\u001B[0m\u001B[0;34m\u001B[0m\u001B[0;34m\u001B[0m\u001B[0m\n\u001B[0m\u001B[1;32m     22\u001B[0m \u001B[0;34m\u001B[0m\u001B[0m\n",
      "\u001B[0;32m/opt/anaconda3/lib/python3.8/site-packages/keras/utils/traceback_utils.py\u001B[0m in \u001B[0;36merror_handler\u001B[0;34m(*args, **kwargs)\u001B[0m\n\u001B[1;32m     68\u001B[0m             \u001B[0;31m# To get the full stack trace, call:\u001B[0m\u001B[0;34m\u001B[0m\u001B[0;34m\u001B[0m\u001B[0;34m\u001B[0m\u001B[0m\n\u001B[1;32m     69\u001B[0m             \u001B[0;31m# `tf.debugging.disable_traceback_filtering()`\u001B[0m\u001B[0;34m\u001B[0m\u001B[0;34m\u001B[0m\u001B[0;34m\u001B[0m\u001B[0m\n\u001B[0;32m---> 70\u001B[0;31m             \u001B[0;32mraise\u001B[0m \u001B[0me\u001B[0m\u001B[0;34m.\u001B[0m\u001B[0mwith_traceback\u001B[0m\u001B[0;34m(\u001B[0m\u001B[0mfiltered_tb\u001B[0m\u001B[0;34m)\u001B[0m \u001B[0;32mfrom\u001B[0m \u001B[0;32mNone\u001B[0m\u001B[0;34m\u001B[0m\u001B[0;34m\u001B[0m\u001B[0m\n\u001B[0m\u001B[1;32m     71\u001B[0m         \u001B[0;32mfinally\u001B[0m\u001B[0;34m:\u001B[0m\u001B[0;34m\u001B[0m\u001B[0;34m\u001B[0m\u001B[0m\n\u001B[1;32m     72\u001B[0m             \u001B[0;32mdel\u001B[0m \u001B[0mfiltered_tb\u001B[0m\u001B[0;34m\u001B[0m\u001B[0;34m\u001B[0m\u001B[0m\n",
      "\u001B[0;32m/opt/anaconda3/lib/python3.8/site-packages/tensorflow/python/eager/execute.py\u001B[0m in \u001B[0;36mquick_execute\u001B[0;34m(op_name, num_outputs, inputs, attrs, ctx, name)\u001B[0m\n\u001B[1;32m     50\u001B[0m   \u001B[0;32mtry\u001B[0m\u001B[0;34m:\u001B[0m\u001B[0;34m\u001B[0m\u001B[0;34m\u001B[0m\u001B[0m\n\u001B[1;32m     51\u001B[0m     \u001B[0mctx\u001B[0m\u001B[0;34m.\u001B[0m\u001B[0mensure_initialized\u001B[0m\u001B[0;34m(\u001B[0m\u001B[0;34m)\u001B[0m\u001B[0;34m\u001B[0m\u001B[0;34m\u001B[0m\u001B[0m\n\u001B[0;32m---> 52\u001B[0;31m     tensors = pywrap_tfe.TFE_Py_Execute(ctx._handle, device_name, op_name,\n\u001B[0m\u001B[1;32m     53\u001B[0m                                         inputs, attrs, num_outputs)\n\u001B[1;32m     54\u001B[0m   \u001B[0;32mexcept\u001B[0m \u001B[0mcore\u001B[0m\u001B[0;34m.\u001B[0m\u001B[0m_NotOkStatusException\u001B[0m \u001B[0;32mas\u001B[0m \u001B[0me\u001B[0m\u001B[0;34m:\u001B[0m\u001B[0;34m\u001B[0m\u001B[0;34m\u001B[0m\u001B[0m\n",
      "\u001B[0;31mInvalidArgumentError\u001B[0m: Graph execution error:\n\nDetected at node 'sparse_categorical_crossentropy/SparseSoftmaxCrossEntropyWithLogits/SparseSoftmaxCrossEntropyWithLogits' defined at (most recent call last):\n    File \"/opt/anaconda3/lib/python3.8/runpy.py\", line 194, in _run_module_as_main\n      return _run_code(code, main_globals, None,\n    File \"/opt/anaconda3/lib/python3.8/runpy.py\", line 87, in _run_code\n      exec(code, run_globals)\n    File \"/opt/anaconda3/lib/python3.8/site-packages/ipykernel_launcher.py\", line 16, in <module>\n      app.launch_new_instance()\n    File \"/opt/anaconda3/lib/python3.8/site-packages/traitlets/config/application.py\", line 845, in launch_instance\n      app.start()\n    File \"/opt/anaconda3/lib/python3.8/site-packages/ipykernel/kernelapp.py\", line 612, in start\n      self.io_loop.start()\n    File \"/opt/anaconda3/lib/python3.8/site-packages/tornado/platform/asyncio.py\", line 199, in start\n      self.asyncio_loop.run_forever()\n    File \"/opt/anaconda3/lib/python3.8/asyncio/base_events.py\", line 570, in run_forever\n      self._run_once()\n    File \"/opt/anaconda3/lib/python3.8/asyncio/base_events.py\", line 1859, in _run_once\n      handle._run()\n    File \"/opt/anaconda3/lib/python3.8/asyncio/events.py\", line 81, in _run\n      self._context.run(self._callback, *self._args)\n    File \"/opt/anaconda3/lib/python3.8/site-packages/tornado/ioloop.py\", line 688, in <lambda>\n      lambda f: self._run_callback(functools.partial(callback, future))\n    File \"/opt/anaconda3/lib/python3.8/site-packages/tornado/ioloop.py\", line 741, in _run_callback\n      ret = callback()\n    File \"/opt/anaconda3/lib/python3.8/site-packages/tornado/gen.py\", line 814, in inner\n      self.ctx_run(self.run)\n    File \"/opt/anaconda3/lib/python3.8/site-packages/tornado/gen.py\", line 775, in run\n      yielded = self.gen.send(value)\n    File \"/opt/anaconda3/lib/python3.8/site-packages/ipykernel/kernelbase.py\", line 365, in process_one\n      yield gen.maybe_future(dispatch(*args))\n    File \"/opt/anaconda3/lib/python3.8/site-packages/tornado/gen.py\", line 234, in wrapper\n      yielded = ctx_run(next, result)\n    File \"/opt/anaconda3/lib/python3.8/site-packages/ipykernel/kernelbase.py\", line 268, in dispatch_shell\n      yield gen.maybe_future(handler(stream, idents, msg))\n    File \"/opt/anaconda3/lib/python3.8/site-packages/tornado/gen.py\", line 234, in wrapper\n      yielded = ctx_run(next, result)\n    File \"/opt/anaconda3/lib/python3.8/site-packages/ipykernel/kernelbase.py\", line 543, in execute_request\n      self.do_execute(\n    File \"/opt/anaconda3/lib/python3.8/site-packages/tornado/gen.py\", line 234, in wrapper\n      yielded = ctx_run(next, result)\n    File \"/opt/anaconda3/lib/python3.8/site-packages/ipykernel/ipkernel.py\", line 306, in do_execute\n      res = shell.run_cell(code, store_history=store_history, silent=silent)\n    File \"/opt/anaconda3/lib/python3.8/site-packages/ipykernel/zmqshell.py\", line 536, in run_cell\n      return super(ZMQInteractiveShell, self).run_cell(*args, **kwargs)\n    File \"/opt/anaconda3/lib/python3.8/site-packages/IPython/core/interactiveshell.py\", line 2894, in run_cell\n      result = self._run_cell(\n    File \"/opt/anaconda3/lib/python3.8/site-packages/IPython/core/interactiveshell.py\", line 2940, in _run_cell\n      return runner(coro)\n    File \"/opt/anaconda3/lib/python3.8/site-packages/IPython/core/async_helpers.py\", line 68, in _pseudo_sync_runner\n      coro.send(None)\n    File \"/opt/anaconda3/lib/python3.8/site-packages/IPython/core/interactiveshell.py\", line 3165, in run_cell_async\n      has_raised = await self.run_ast_nodes(code_ast.body, cell_name,\n    File \"/opt/anaconda3/lib/python3.8/site-packages/IPython/core/interactiveshell.py\", line 3357, in run_ast_nodes\n      if (await self.run_code(code, result,  async_=asy)):\n    File \"/opt/anaconda3/lib/python3.8/site-packages/IPython/core/interactiveshell.py\", line 3437, in run_code\n      exec(code_obj, self.user_global_ns, self.user_ns)\n    File \"<ipython-input-21-6fb6958fd0d3>\", line 21, in <module>\n      model.fit(training_images, training_labels, epochs=10, batch_size=64)\n    File \"/opt/anaconda3/lib/python3.8/site-packages/keras/utils/traceback_utils.py\", line 65, in error_handler\n      return fn(*args, **kwargs)\n    File \"/opt/anaconda3/lib/python3.8/site-packages/keras/engine/training.py\", line 1650, in fit\n      tmp_logs = self.train_function(iterator)\n    File \"/opt/anaconda3/lib/python3.8/site-packages/keras/engine/training.py\", line 1249, in train_function\n      return step_function(self, iterator)\n    File \"/opt/anaconda3/lib/python3.8/site-packages/keras/engine/training.py\", line 1233, in step_function\n      outputs = model.distribute_strategy.run(run_step, args=(data,))\n    File \"/opt/anaconda3/lib/python3.8/site-packages/keras/engine/training.py\", line 1222, in run_step\n      outputs = model.train_step(data)\n    File \"/opt/anaconda3/lib/python3.8/site-packages/keras/engine/training.py\", line 1024, in train_step\n      loss = self.compute_loss(x, y, y_pred, sample_weight)\n    File \"/opt/anaconda3/lib/python3.8/site-packages/keras/engine/training.py\", line 1082, in compute_loss\n      return self.compiled_loss(\n    File \"/opt/anaconda3/lib/python3.8/site-packages/keras/engine/compile_utils.py\", line 265, in __call__\n      loss_value = loss_obj(y_t, y_p, sample_weight=sw)\n    File \"/opt/anaconda3/lib/python3.8/site-packages/keras/losses.py\", line 152, in __call__\n      losses = call_fn(y_true, y_pred)\n    File \"/opt/anaconda3/lib/python3.8/site-packages/keras/losses.py\", line 284, in call\n      return ag_fn(y_true, y_pred, **self._fn_kwargs)\n    File \"/opt/anaconda3/lib/python3.8/site-packages/keras/losses.py\", line 2098, in sparse_categorical_crossentropy\n      return backend.sparse_categorical_crossentropy(\n    File \"/opt/anaconda3/lib/python3.8/site-packages/keras/backend.py\", line 5633, in sparse_categorical_crossentropy\n      res = tf.nn.sparse_softmax_cross_entropy_with_logits(\nNode: 'sparse_categorical_crossentropy/SparseSoftmaxCrossEntropyWithLogits/SparseSoftmaxCrossEntropyWithLogits'\nReceived a label value of 9 which is outside the valid range of [0, 5).  Label values: 7 3 7 5 0 0 9 8 9 6 8 6 0 7 6 9 4 1 2 0 5 8 0 7 8 2 3 3 2 1 3 3 7 8 1 0 8 8 3 0 1 8 5 5 1 1 7 1 0 1 8 0 5 5 2 7 0 0 1 9 0 4 3 9\n\t [[{{node sparse_categorical_crossentropy/SparseSoftmaxCrossEntropyWithLogits/SparseSoftmaxCrossEntropyWithLogits}}]] [Op:__inference_train_function_330807]"
     ]
    }
   ]
  },
  {
   "cell_type": "markdown",
   "metadata": {
    "id": "SLsQcq-6aUoD"
   },
   "source": [
    "Tu respuestas a la pregunta 6.1 aquí:\n",
    "\n",
    "Como estamos haciendo un clasificador, hay 10 neuronas en la capa de salida porque hay 10 clases de ropa, y cada neurona representa una clase."
   ]
  },
  {
   "cell_type": "markdown",
   "metadata": {
    "id": "J1f_7ZFeaUu6"
   },
   "source": [
    "Tu respuestas a la pregunta 6.2 aquí:\n",
    "\n",
    "Da un error, que en este caso, es bastante explícito:\n",
    "```Received a label value of 9 which is outside the valid range of [0, 5).```\n",
    "Está recibiendo valores fuera del rango que estamos definiendo en la capa de salida.\n",
    "\n",
    "En el caso de meter más de 10 neuronas en la red, no daría error, pero perdería capacidad de clasificación, ya que no tendría en cuenta las clases que no entrarían jamás."
   ]
  },
  {
   "cell_type": "markdown",
   "metadata": {
    "id": "HNIBCkshaf2y"
   },
   "source": [
    "## 7: Aumento de epoch y su efecto en la red neuronal\n"
   ]
  },
  {
   "cell_type": "markdown",
   "source": [
    "En este ejercicio vamos a ver el impacto de aumentar los epoch en el entrenamiento. Usando la red neuronal de la pregunta 1:\n",
    "\n",
    "**pregunta 7.1 (0.15 puntos)**\n",
    "* Intentad 15 epoch para su entrenamiento, probablemente obtendras un modelo con una pérdida mucho mejor que el que tiene 5.\n",
    "\n",
    "**pregunta 7.2 (0.15 puntos)**\n",
    "* Intenta ahora con 30 epoch para su entrenamiento, podrás ver que el valor de la pérdida deja de disminuir, y a veces aumenta.\n",
    "\n",
    "**pregunta 7.3 (0.20 puntos)**\n",
    "* ¿Por qué piensas que ocurre esto? Explica tu respuesta y da el nombre de este efecto si lo conoces."
   ],
   "metadata": {
    "id": "Yg8tTqYPuwGc"
   }
  },
  {
   "cell_type": "code",
   "metadata": {
    "id": "Cb5vk_imG4iZ",
    "ExecuteTime": {
     "start_time": "2023-04-25T12:39:12.986793Z",
     "end_time": "2023-04-25T12:40:09.542608Z"
    }
   },
   "source": [
    "### Tu código para 15 epoch aquí ###\n",
    "\n",
    "import tensorflow as tf\n",
    "print(tf.__version__)\n",
    "\n",
    "mnist = tf.keras.datasets.fashion_mnist\n",
    "(training_images, training_labels) ,  (test_images, test_labels) = mnist.load_data()\n",
    "training_images  = training_images / 255.0\n",
    "test_images = test_images / 255.0\n",
    "\n",
    "model = Sequential([\n",
    "    keras.layers.Flatten(input_shape=(28, 28)),\n",
    "    keras.layers.Dense(128, activation='sigmoid'),\n",
    "    keras.layers.Dense(10, activation='softmax')\n",
    "])\n",
    "\n",
    "model.compile(optimizer='adam',\n",
    "              loss='sparse_categorical_crossentropy',\n",
    "              metrics=['accuracy'])\n",
    "\n",
    "model.fit(training_images, training_labels, epochs=15, batch_size=64)"
   ],
   "execution_count": 22,
   "outputs": [
    {
     "name": "stdout",
     "output_type": "stream",
     "text": [
      "2.11.1\n",
      "Epoch 1/15\n",
      "938/938 [==============================] - 3s 2ms/step - loss: 0.5936 - accuracy: 0.8046\n",
      "Epoch 2/15\n",
      "938/938 [==============================] - 2s 2ms/step - loss: 0.4115 - accuracy: 0.8531\n",
      "Epoch 3/15\n",
      "938/938 [==============================] - 3s 3ms/step - loss: 0.3743 - accuracy: 0.8655\n",
      "Epoch 4/15\n",
      "938/938 [==============================] - 3s 4ms/step - loss: 0.3490 - accuracy: 0.8748\n",
      "Epoch 5/15\n",
      "938/938 [==============================] - 3s 4ms/step - loss: 0.3310 - accuracy: 0.8794\n",
      "Epoch 6/15\n",
      "938/938 [==============================] - 3s 3ms/step - loss: 0.3157 - accuracy: 0.8866\n",
      "Epoch 7/15\n",
      "938/938 [==============================] - 4s 4ms/step - loss: 0.3012 - accuracy: 0.8906\n",
      "Epoch 8/15\n",
      "938/938 [==============================] - 3s 3ms/step - loss: 0.2916 - accuracy: 0.8945\n",
      "Epoch 9/15\n",
      "938/938 [==============================] - 3s 3ms/step - loss: 0.2793 - accuracy: 0.8979\n",
      "Epoch 10/15\n",
      "938/938 [==============================] - 2s 2ms/step - loss: 0.2707 - accuracy: 0.9014\n",
      "Epoch 11/15\n",
      "938/938 [==============================] - 2s 2ms/step - loss: 0.2626 - accuracy: 0.9040\n",
      "Epoch 12/15\n",
      "938/938 [==============================] - 5s 5ms/step - loss: 0.2543 - accuracy: 0.9072\n",
      "Epoch 13/15\n",
      "938/938 [==============================] - 5s 6ms/step - loss: 0.2477 - accuracy: 0.9095\n",
      "Epoch 14/15\n",
      "938/938 [==============================] - 7s 7ms/step - loss: 0.2408 - accuracy: 0.9118\n",
      "Epoch 15/15\n",
      "938/938 [==============================] - 7s 8ms/step - loss: 0.2339 - accuracy: 0.9142\n"
     ]
    },
    {
     "data": {
      "text/plain": "<keras.callbacks.History at 0x7fe5514adf70>"
     },
     "execution_count": 22,
     "metadata": {},
     "output_type": "execute_result"
    }
   ]
  },
  {
   "cell_type": "code",
   "metadata": {
    "id": "I9jQ26Gda5cv",
    "ExecuteTime": {
     "start_time": "2023-04-25T12:40:14.408519Z",
     "end_time": "2023-04-25T12:42:54.334433Z"
    }
   },
   "source": [
    "### Tu código para 30 epoch aquí ###\n",
    "\n",
    "import tensorflow as tf\n",
    "print(tf.__version__)\n",
    "\n",
    "mnist = tf.keras.datasets.fashion_mnist\n",
    "(training_images, training_labels) ,  (test_images, test_labels) = mnist.load_data()\n",
    "\n",
    "training_images = training_images/255.0\n",
    "test_images = test_images/255.0\n",
    "\n",
    "model = Sequential([\n",
    "    keras.layers.Flatten(input_shape=(28, 28)),\n",
    "    keras.layers.Dense(128, activation='sigmoid'),\n",
    "    keras.layers.Dense(10, activation='softmax')\n",
    "])\n",
    "\n",
    "model.compile(optimizer='adam',\n",
    "              loss='sparse_categorical_crossentropy',\n",
    "              metrics=['accuracy'])\n",
    "\n",
    "model.fit(training_images, training_labels, epochs=40, batch_size=64)"
   ],
   "execution_count": 23,
   "outputs": [
    {
     "name": "stdout",
     "output_type": "stream",
     "text": [
      "2.11.1\n",
      "Epoch 1/40\n",
      "938/938 [==============================] - 7s 6ms/step - loss: 0.5919 - accuracy: 0.8033\n",
      "Epoch 2/40\n",
      "938/938 [==============================] - 8s 8ms/step - loss: 0.4133 - accuracy: 0.8520\n",
      "Epoch 3/40\n",
      "938/938 [==============================] - 7s 7ms/step - loss: 0.3749 - accuracy: 0.8651\n",
      "Epoch 4/40\n",
      "938/938 [==============================] - 6s 6ms/step - loss: 0.3520 - accuracy: 0.8735\n",
      "Epoch 5/40\n",
      "938/938 [==============================] - 6s 6ms/step - loss: 0.3333 - accuracy: 0.8802\n",
      "Epoch 6/40\n",
      "938/938 [==============================] - 6s 6ms/step - loss: 0.3164 - accuracy: 0.8862\n",
      "Epoch 7/40\n",
      "938/938 [==============================] - 6s 7ms/step - loss: 0.3040 - accuracy: 0.8892\n",
      "Epoch 8/40\n",
      "938/938 [==============================] - 5s 5ms/step - loss: 0.2915 - accuracy: 0.8945\n",
      "Epoch 9/40\n",
      "938/938 [==============================] - 8s 9ms/step - loss: 0.2820 - accuracy: 0.8960\n",
      "Epoch 10/40\n",
      "938/938 [==============================] - 4s 4ms/step - loss: 0.2734 - accuracy: 0.8996\n",
      "Epoch 11/40\n",
      "938/938 [==============================] - 4s 4ms/step - loss: 0.2660 - accuracy: 0.9021\n",
      "Epoch 12/40\n",
      "938/938 [==============================] - 4s 4ms/step - loss: 0.2577 - accuracy: 0.9050\n",
      "Epoch 13/40\n",
      "938/938 [==============================] - 3s 3ms/step - loss: 0.2496 - accuracy: 0.9082\n",
      "Epoch 14/40\n",
      "938/938 [==============================] - 3s 3ms/step - loss: 0.2432 - accuracy: 0.9113\n",
      "Epoch 15/40\n",
      "938/938 [==============================] - 3s 3ms/step - loss: 0.2356 - accuracy: 0.9131\n",
      "Epoch 16/40\n",
      "938/938 [==============================] - 5s 5ms/step - loss: 0.2296 - accuracy: 0.9159\n",
      "Epoch 17/40\n",
      "938/938 [==============================] - 4s 4ms/step - loss: 0.2251 - accuracy: 0.9172\n",
      "Epoch 18/40\n",
      "938/938 [==============================] - 5s 6ms/step - loss: 0.2192 - accuracy: 0.9202\n",
      "Epoch 19/40\n",
      "938/938 [==============================] - 4s 5ms/step - loss: 0.2141 - accuracy: 0.9219\n",
      "Epoch 20/40\n",
      "938/938 [==============================] - 5s 5ms/step - loss: 0.2085 - accuracy: 0.9231\n",
      "Epoch 21/40\n",
      "938/938 [==============================] - 4s 4ms/step - loss: 0.2027 - accuracy: 0.9262\n",
      "Epoch 22/40\n",
      "938/938 [==============================] - 2s 3ms/step - loss: 0.2003 - accuracy: 0.9275\n",
      "Epoch 23/40\n",
      "938/938 [==============================] - 4s 4ms/step - loss: 0.1948 - accuracy: 0.9294\n",
      "Epoch 24/40\n",
      "938/938 [==============================] - 3s 3ms/step - loss: 0.1884 - accuracy: 0.9318\n",
      "Epoch 25/40\n",
      "938/938 [==============================] - 2s 2ms/step - loss: 0.1848 - accuracy: 0.9327\n",
      "Epoch 26/40\n",
      "938/938 [==============================] - 2s 2ms/step - loss: 0.1811 - accuracy: 0.9342\n",
      "Epoch 27/40\n",
      "938/938 [==============================] - 3s 3ms/step - loss: 0.1773 - accuracy: 0.9360\n",
      "Epoch 28/40\n",
      "938/938 [==============================] - 3s 3ms/step - loss: 0.1726 - accuracy: 0.9368\n",
      "Epoch 29/40\n",
      "938/938 [==============================] - 3s 3ms/step - loss: 0.1704 - accuracy: 0.9388\n",
      "Epoch 30/40\n",
      "938/938 [==============================] - 2s 3ms/step - loss: 0.1668 - accuracy: 0.9400\n",
      "Epoch 31/40\n",
      "938/938 [==============================] - 3s 3ms/step - loss: 0.1634 - accuracy: 0.9403\n",
      "Epoch 32/40\n",
      "938/938 [==============================] - 3s 3ms/step - loss: 0.1586 - accuracy: 0.9434\n",
      "Epoch 33/40\n",
      "938/938 [==============================] - 2s 3ms/step - loss: 0.1572 - accuracy: 0.9428\n",
      "Epoch 34/40\n",
      "938/938 [==============================] - 2s 3ms/step - loss: 0.1529 - accuracy: 0.9452\n",
      "Epoch 35/40\n",
      "938/938 [==============================] - 3s 3ms/step - loss: 0.1497 - accuracy: 0.9461\n",
      "Epoch 36/40\n",
      "938/938 [==============================] - 3s 3ms/step - loss: 0.1460 - accuracy: 0.9478\n",
      "Epoch 37/40\n",
      "938/938 [==============================] - 2s 3ms/step - loss: 0.1442 - accuracy: 0.9485\n",
      "Epoch 38/40\n",
      "938/938 [==============================] - 2s 3ms/step - loss: 0.1405 - accuracy: 0.9488\n",
      "Epoch 39/40\n",
      "938/938 [==============================] - 3s 3ms/step - loss: 0.1375 - accuracy: 0.9513\n",
      "Epoch 40/40\n",
      "938/938 [==============================] - 4s 4ms/step - loss: 0.1350 - accuracy: 0.9516\n"
     ]
    },
    {
     "data": {
      "text/plain": "<keras.callbacks.History at 0x7fe5ab403e20>"
     },
     "execution_count": 23,
     "metadata": {},
     "output_type": "execute_result"
    }
   ]
  },
  {
   "cell_type": "markdown",
   "metadata": {
    "id": "Fs0fjzH4bmSR"
   },
   "source": [
    "Tu respuesta a la pregunta 7.3 aquí:\n",
    "\n",
    "He ampliado de 30 a 40 epoch, para que se viera mejor, porque con 30 no lo apreciaba del todo.\n",
    "Llega un punto en el que el accuracy cada vez crece mas despacio, llegando a decrecer en algunos epoch.\n",
    "Esto se puede producir por dos factores:\n",
    "Por un lado puede deberse a overfitting. El modelo se adapta demasiado a los datos de entrenamiento, no siendo capáz de generalizar bien.\n",
    "Puede ser debido también a vanishing gradients: al usar la función de activación sigmoid, los gradientes se van haciendo cada vez mas pequeños, y al final, el modelo no es capáz de aprender nada."
   ]
  },
  {
   "cell_type": "markdown",
   "metadata": {
    "id": "HlIgNG4Yb_N6"
   },
   "source": [
    "## 8: Early stop\n"
   ]
  },
  {
   "cell_type": "markdown",
   "source": [
    "En el ejercicio anterior, cuando entrenabas con epoch extras, tenías un problema en el que tu pérdida podía cambiar. Puede que te haya llevado un poco de tiempo esperar a que el entrenamiento lo hiciera,  y puede que hayas pensado \"¿no estaría bien si pudiera parar el entrenamiento cuando alcance un valor deseado?\", es decir, una precisión del 85% podría ser suficiente para ti, y si alcanzas eso después de 3 epoch, ¿por qué sentarte a esperar a que termine muchas más épocas? Como cualquier otro programa existen formas de parar la ejecución\n",
    "\n",
    "A partir del código de ejemplo, hacer una nueva función que tenga en cuenta la perdida (loss) y que pueda parar el código para evitar que ocurra el efecto secundario que vimos en el ejercicio 5."
   ],
   "metadata": {
    "id": "06rrpDXqupAA"
   }
  },
  {
   "cell_type": "code",
   "metadata": {
    "id": "b5UwceFUG4ic",
    "ExecuteTime": {
     "start_time": "2023-04-25T12:43:20.618817Z",
     "end_time": "2023-04-25T12:43:20.624530Z"
    }
   },
   "source": [
    "### Ejemplo de código\n",
    "\n",
    "class myCallback(tf.keras.callbacks.Callback):\n",
    "      def on_epoch_end(self, epoch, logs={}):\n",
    "        if(logs.get('accuracy')> 0.85):\n",
    "              print(\"\\nAlcanzado el 85% de precisión, se cancela el entrenamiento!!\")\n",
    "              self.model.stop_training = True"
   ],
   "execution_count": 24,
   "outputs": []
  },
  {
   "cell_type": "markdown",
   "metadata": {
    "id": "0Bjd8wGKccrn"
   },
   "source": [
    "**Ejercicio 8 *(0.75 puntos)***: Completa el siguiente código con una clase callback que una vez alcanzado el 40% de perdida detenga el entrenamiento."
   ]
  },
  {
   "cell_type": "code",
   "metadata": {
    "id": "29LSfdOvc270",
    "ExecuteTime": {
     "start_time": "2023-04-25T12:43:27.956205Z",
     "end_time": "2023-04-25T12:43:43.111645Z"
    }
   },
   "source": [
    "import tensorflow as tf\n",
    "print(tf.__version__)\n",
    "\n",
    "### Tu código de la función callback para parar el entrenamiento de la red neuronal al 40% de loss aqui: ###\n",
    "\n",
    "class myCallback(tf.keras.callbacks.Callback):\n",
    "    def on_epoch_end(self, epoch, logs={}):\n",
    "        if(logs.get('loss')< 0.40):\n",
    "            print(\"\\nAlcanzada una pérdida inferior al 40%, se cancela el entrenamiento!!\")\n",
    "            self.model.stop_training = True\n",
    "\n",
    "callbacks = myCallback()\n",
    "mnist = tf.keras.datasets.fashion_mnist\n",
    "(training_images, training_labels) ,  (test_images, test_labels) = mnist.load_data()\n",
    "\n",
    "training_images = training_images/255.0\n",
    "test_images = test_images/255.0\n",
    "\n",
    "model = tf.keras.models.Sequential([tf.keras.layers.Flatten(),\n",
    "                                    tf.keras.layers.Dense(512, activation=tf.nn.relu),\n",
    "                                    tf.keras.layers.Dense(10, activation=tf.nn.softmax)])\n",
    "\n",
    "model.compile(optimizer = 'adam',\n",
    "              loss = 'sparse_categorical_crossentropy',\n",
    "              metrics=['accuracy']) \n",
    "\n",
    "model.fit(training_images, training_labels, epochs=50, callbacks=[callbacks])"
   ],
   "execution_count": 25,
   "outputs": [
    {
     "name": "stdout",
     "output_type": "stream",
     "text": [
      "2.11.1\n",
      "Epoch 1/50\n",
      "1875/1875 [==============================] - 7s 4ms/step - loss: 0.4748 - accuracy: 0.8303\n",
      "Epoch 2/50\n",
      "1872/1875 [============================>.] - ETA: 0s - loss: 0.3561 - accuracy: 0.8703\n",
      "Alcanzada una pérdida inferior al 40%, se cancela el entrenamiento!!\n",
      "1875/1875 [==============================] - 7s 4ms/step - loss: 0.3563 - accuracy: 0.8702\n"
     ]
    },
    {
     "data": {
      "text/plain": "<keras.callbacks.History at 0x7fe5ac2ca760>"
     },
     "execution_count": 25,
     "metadata": {},
     "output_type": "execute_result"
    }
   ]
  },
  {
   "cell_type": "markdown",
   "metadata": {
    "id": "M_yZ9B8gTFqR"
   },
   "source": [
    "## 9. Unidades de activación"
   ]
  },
  {
   "cell_type": "markdown",
   "metadata": {
    "id": "MuVNxmXSTFqR"
   },
   "source": [
    "En este ejercicio, vamos a evaluar la importancia de utilizar las unidades de activación adecuadas. Como hemos visto en clase, funciones de activación como sigmoid han dejado de utilizarse en favor de otras unidades como ReLU.\n",
    "\n",
    "**Ejercicio 9 *(0.75 puntos)***: Partiendo de una red sencilla como la desarrollada en el Trabajo 1, escribir un breve análisis comparando la utilización de unidades sigmoid y ReLU (por ejemplo, se pueden comentar aspectos como velocidad de convergencia, métricas obtenidas...). Explicar por qué pueden darse estas diferencias. Opcionalmente, comparar con otras activaciones disponibles en Keras.\n",
    "\n",
    "*Pista: Usando redes más grandes se hace más sencillo apreciar las diferencias. Es mejor utilizar al menos 3 o 4 capas densas.*"
   ]
  },
  {
   "cell_type": "code",
   "metadata": {
    "id": "hoYUajTuTFqS",
    "ExecuteTime": {
     "start_time": "2023-04-25T12:47:24.812066Z",
     "end_time": "2023-04-25T12:49:50.328886Z"
    }
   },
   "source": [
    "## Ejemplo con sigmoide, 5 capas densas de 512 neuronas cada una\n",
    "\n",
    "\n",
    "import tensorflow as tf\n",
    "print(tf.__version__)\n",
    "\n",
    "mnist = tf.keras.datasets.fashion_mnist\n",
    "(training_images, training_labels) ,  (test_images, test_labels) = mnist.load_data()\n",
    "training_images  = training_images / 255.0\n",
    "test_images = test_images / 255.0\n",
    "\n",
    "model = Sequential([\n",
    "    keras.layers.Flatten(input_shape=(28, 28)),\n",
    "    keras.layers.Dense(512, activation='sigmoid'),\n",
    "    keras.layers.Dense(512, activation='sigmoid'),\n",
    "    keras.layers.Dense(512, activation='sigmoid'),\n",
    "    keras.layers.Dense(512, activation='sigmoid'),\n",
    "    keras.layers.Dense(512, activation='sigmoid'),\n",
    "    keras.layers.Dense(10, activation='softmax')\n",
    "])\n",
    "\n",
    "model.compile(optimizer='adam',\n",
    "              loss='sparse_categorical_crossentropy',\n",
    "              metrics=['accuracy'])\n",
    "\n",
    "model.fit(training_images, training_labels, epochs=10, batch_size=64)\n",
    "test_loss, test_acc = model.evaluate(test_images, test_labels)\n",
    "print('Test accuracy:', test_acc)"
   ],
   "execution_count": 26,
   "outputs": [
    {
     "name": "stdout",
     "output_type": "stream",
     "text": [
      "2.11.1\n",
      "Epoch 1/10\n",
      "938/938 [==============================] - 15s 14ms/step - loss: 0.8154 - accuracy: 0.6838\n",
      "Epoch 2/10\n",
      "938/938 [==============================] - 14s 15ms/step - loss: 0.4626 - accuracy: 0.8367\n",
      "Epoch 3/10\n",
      "938/938 [==============================] - 16s 17ms/step - loss: 0.3962 - accuracy: 0.8590\n",
      "Epoch 4/10\n",
      "938/938 [==============================] - 14s 15ms/step - loss: 0.3610 - accuracy: 0.8706\n",
      "Epoch 5/10\n",
      "938/938 [==============================] - 13s 14ms/step - loss: 0.3370 - accuracy: 0.8794\n",
      "Epoch 6/10\n",
      "938/938 [==============================] - 13s 14ms/step - loss: 0.3205 - accuracy: 0.8831\n",
      "Epoch 7/10\n",
      "938/938 [==============================] - 14s 14ms/step - loss: 0.3031 - accuracy: 0.8893\n",
      "Epoch 8/10\n",
      "938/938 [==============================] - 13s 14ms/step - loss: 0.2899 - accuracy: 0.8951\n",
      "Epoch 9/10\n",
      "938/938 [==============================] - 15s 16ms/step - loss: 0.2806 - accuracy: 0.8958\n",
      "Epoch 10/10\n",
      "938/938 [==============================] - 15s 16ms/step - loss: 0.2673 - accuracy: 0.9002\n",
      "313/313 [==============================] - 2s 4ms/step - loss: 0.3472 - accuracy: 0.8795\n",
      "Test accuracy: 0.8794999718666077\n"
     ]
    }
   ]
  },
  {
   "cell_type": "code",
   "execution_count": 27,
   "outputs": [
    {
     "name": "stdout",
     "output_type": "stream",
     "text": [
      "2.11.1\n",
      "Epoch 1/10\n",
      "938/938 [==============================] - 14s 14ms/step - loss: 0.4977 - accuracy: 0.8185\n",
      "Epoch 2/10\n",
      "938/938 [==============================] - 13s 14ms/step - loss: 0.3776 - accuracy: 0.8627\n",
      "Epoch 3/10\n",
      "938/938 [==============================] - 14s 15ms/step - loss: 0.3410 - accuracy: 0.8756\n",
      "Epoch 4/10\n",
      "938/938 [==============================] - 16s 18ms/step - loss: 0.3112 - accuracy: 0.8854\n",
      "Epoch 5/10\n",
      "938/938 [==============================] - 16s 17ms/step - loss: 0.2962 - accuracy: 0.8919\n",
      "Epoch 6/10\n",
      "938/938 [==============================] - 13s 14ms/step - loss: 0.2832 - accuracy: 0.8966\n",
      "Epoch 7/10\n",
      "938/938 [==============================] - 13s 14ms/step - loss: 0.2674 - accuracy: 0.8998\n",
      "Epoch 8/10\n",
      "938/938 [==============================] - 15s 16ms/step - loss: 0.2600 - accuracy: 0.9036\n",
      "Epoch 9/10\n",
      "938/938 [==============================] - 15s 16ms/step - loss: 0.2456 - accuracy: 0.9077\n",
      "Epoch 10/10\n",
      "938/938 [==============================] - 17s 18ms/step - loss: 0.2414 - accuracy: 0.9101\n",
      "313/313 [==============================] - 1s 4ms/step - loss: 0.3458 - accuracy: 0.8816\n",
      "Test accuracy: 0.881600022315979\n"
     ]
    }
   ],
   "source": [
    "## Ejemplo con ReLU, 5 capas densas de 512 neuronas cada una\n",
    "\n",
    "\n",
    "import tensorflow as tf\n",
    "print(tf.__version__)\n",
    "\n",
    "mnist = tf.keras.datasets.fashion_mnist\n",
    "(training_images, training_labels) ,  (test_images, test_labels) = mnist.load_data()\n",
    "training_images  = training_images / 255.0\n",
    "test_images = test_images / 255.0\n",
    "\n",
    "model = Sequential([\n",
    "    keras.layers.Flatten(input_shape=(28, 28)),\n",
    "    keras.layers.Dense(512, activation='relu'),\n",
    "    keras.layers.Dense(512, activation='relu'),\n",
    "    keras.layers.Dense(512, activation='relu'),\n",
    "    keras.layers.Dense(512, activation='relu'),\n",
    "    keras.layers.Dense(512, activation='relu'),\n",
    "    keras.layers.Dense(10, activation='softmax')\n",
    "])\n",
    "\n",
    "model.compile(optimizer='adam',\n",
    "              loss='sparse_categorical_crossentropy',\n",
    "              metrics=['accuracy'])\n",
    "\n",
    "model.fit(training_images, training_labels, epochs=10, batch_size=64)\n",
    "test_loss, test_acc = model.evaluate(test_images, test_labels)\n",
    "print('Test accuracy:', test_acc)"
   ],
   "metadata": {
    "collapsed": false,
    "ExecuteTime": {
     "start_time": "2023-04-25T12:50:18.195737Z",
     "end_time": "2023-04-25T12:52:47.534903Z"
    }
   }
  },
  {
   "cell_type": "code",
   "execution_count": 29,
   "outputs": [
    {
     "name": "stdout",
     "output_type": "stream",
     "text": [
      "2.11.1\n",
      "Epoch 1/10\n",
      "938/938 [==============================] - 15s 15ms/step - loss: 0.5002 - accuracy: 0.8185\n",
      "Epoch 2/10\n",
      "938/938 [==============================] - 14s 15ms/step - loss: 0.3858 - accuracy: 0.8599\n",
      "Epoch 3/10\n",
      "938/938 [==============================] - 14s 15ms/step - loss: 0.3451 - accuracy: 0.8729\n",
      "Epoch 4/10\n",
      "938/938 [==============================] - 17s 18ms/step - loss: 0.3306 - accuracy: 0.8800\n",
      "Epoch 5/10\n",
      "938/938 [==============================] - 14s 15ms/step - loss: 0.3078 - accuracy: 0.8856\n",
      "Epoch 6/10\n",
      "938/938 [==============================] - 11s 11ms/step - loss: 0.2994 - accuracy: 0.8901\n",
      "Epoch 7/10\n",
      "938/938 [==============================] - 11s 11ms/step - loss: 0.2826 - accuracy: 0.8972\n",
      "Epoch 8/10\n",
      "938/938 [==============================] - 10s 11ms/step - loss: 0.2722 - accuracy: 0.8987\n",
      "Epoch 9/10\n",
      "938/938 [==============================] - 10s 11ms/step - loss: 0.2614 - accuracy: 0.9015\n",
      "Epoch 10/10\n",
      "938/938 [==============================] - 11s 11ms/step - loss: 0.2578 - accuracy: 0.9032\n",
      "313/313 [==============================] - 1s 3ms/step - loss: 0.4013 - accuracy: 0.8679\n",
      "Test accuracy: 0.867900013923645\n"
     ]
    }
   ],
   "source": [
    "## Ejemplo con LeakyReLU, 5 capas densas de 512 neuronas cada una\n",
    "\n",
    "\n",
    "import tensorflow as tf\n",
    "print(tf.__version__)\n",
    "\n",
    "mnist = tf.keras.datasets.fashion_mnist\n",
    "(training_images, training_labels) ,  (test_images, test_labels) = mnist.load_data()\n",
    "training_images  = training_images / 255.0\n",
    "test_images = test_images / 255.0\n",
    "\n",
    "model = Sequential([\n",
    "    keras.layers.Flatten(input_shape=(28, 28)),\n",
    "    keras.layers.Dense(512, activation=tf.keras.layers.LeakyReLU(0.1)),\n",
    "    keras.layers.Dense(512, activation=tf.keras.layers.LeakyReLU(0.1)),\n",
    "    keras.layers.Dense(512, activation=tf.keras.layers.LeakyReLU(0.1)),\n",
    "    keras.layers.Dense(512, activation=tf.keras.layers.LeakyReLU(0.1)),\n",
    "    keras.layers.Dense(512, activation=tf.keras.layers.LeakyReLU(0.1)),\n",
    "    keras.layers.Dense(10, activation='softmax')\n",
    "])\n",
    "\n",
    "model.compile(optimizer='adam',\n",
    "              loss='sparse_categorical_crossentropy',\n",
    "              metrics=['accuracy'])\n",
    "\n",
    "model.fit(training_images, training_labels, epochs=10, batch_size=64)\n",
    "test_loss, test_acc = model.evaluate(test_images, test_labels)\n",
    "print('Test accuracy:', test_acc)\n"
   ],
   "metadata": {
    "collapsed": false,
    "ExecuteTime": {
     "start_time": "2023-04-26T09:21:34.262153Z",
     "end_time": "2023-04-26T09:24:02.267523Z"
    }
   }
  },
  {
   "cell_type": "markdown",
   "source": [
    "### Resultado de los distintos entrenamientos\n",
    "\n",
    "| epoch | s tiempo | s accuracy | r tiempo | r accuracy | lr tiempo | lr accuracy |\n",
    "|------|----------|------------|----------|------------|-----------|-------------|\n",
    "| 1    | 15       | 68         | 14       | 81         | 15        | 81          |\n",
    "| 2    | 14       | 83         | 13       | 86         | 14        | 85          |\n",
    "| 3    | 16       | 85         | 14       | 87         | 14        | 87          |\n",
    "| 4    | 14       | 87         | 16       | 88         | 17        | 88          |\n",
    "| 5    | 13       | 88         | 16       | 89         | 14        | 88          |\n",
    "| 6    | 13       | 88         | 13       | 89         | 11        | 89          |\n",
    "| 7    | 14       | 88         | 13       | 90         | 11        | 89          |\n",
    "| 8    | 13       | 89         | 15       | 90         | 10        | 89          |\n",
    "| 9    | 15       | 89         | 15       | 90         | 10        | 90          |\n",
    "| 10   | 15       | 90         | 17       | 91         | 11        | 90          |\n",
    "| test | -        | 87,9%      | -        | 88,1%      | -         | 86,7%       |\n",
    "\n",
    "En cuanto a la velocidad de convergencia, se observa que la red neuronal con unidades ReLU y LeakyReLU converge más rápido que la red con unidades sigmoid. Esto se debe a que las unidades sigmoid tienen un rango de salida limitado y experimentan saturación en la región de valores extremos, lo que puede afectar la velocidad de convergencia.\n",
    "\n",
    "En cuanto a las métricas obtenidas, se observa que la precisión de la red neuronal con unidades ReLU  es mayor que la red con unidades sigmoid y LeakyReLU en el conjunto de prueba. Esto puede deberse a que las unidades ReLU y LeakyReLU tienen una mejor capacidad para representar patrones complejos en los datos."
   ],
   "metadata": {
    "collapsed": false
   }
  },
  {
   "cell_type": "markdown",
   "source": [
    "## 10. Inicialización de parámetros"
   ],
   "metadata": {
    "collapsed": false
   }
  },
  {
   "cell_type": "markdown",
   "metadata": {
    "id": "Abmm05UPTFqU"
   },
   "source": [
    "En este ejercicio, vamos a evaluar la importancia de una correcta inicialización de parámetros en una red neuronal.\n",
    "\n",
    "**Ejercicio 10 *(0.75 puntos)***: Partiendo de una red similar a la del ejercicio anterior (usando ya ReLUs), comentar las diferencias que se aprecian en el entrenamiento al utilizar distintas estrategias de inicialización de parámetros. Para ello, inicializar todas las capas con las siguientes estrategias, disponibles en Keras, y analizar sus diferencias:\n",
    "\n",
    "* Inicialización con ceros.\n",
    "* Inicialización con una variable aleatoria normal.\n",
    "* Inicialización con los valores por defecto de Keras para una capa Dense (estrategia *glorot uniform*)"
   ]
  },
  {
   "cell_type": "code",
   "metadata": {
    "id": "qcMt7pSkTFqU",
    "ExecuteTime": {
     "start_time": "2023-04-26T10:08:57.710540Z",
     "end_time": "2023-04-26T10:11:42.594723Z"
    }
   },
   "source": [
    "## Inicializando con ceros\n",
    "\n",
    "import tensorflow as tf\n",
    "print(tf.__version__)\n",
    "\n",
    "mnist = tf.keras.datasets.fashion_mnist\n",
    "(training_images, training_labels) ,  (test_images, test_labels) = mnist.load_data()\n",
    "training_images  = training_images / 255.0\n",
    "test_images = test_images / 255.0\n",
    "\n",
    "model = Sequential([\n",
    "    keras.layers.Flatten(input_shape=(28, 28)),\n",
    "    keras.layers.Dense(512, activation='relu', kernel_initializer='zeros'),\n",
    "    keras.layers.Dense(512, activation='relu', kernel_initializer='zeros'),\n",
    "    keras.layers.Dense(512, activation='relu', kernel_initializer='zeros'),\n",
    "    keras.layers.Dense(512, activation='relu', kernel_initializer='zeros'),\n",
    "    keras.layers.Dense(512, activation='relu', kernel_initializer='zeros'),\n",
    "    keras.layers.Dense(10, activation='softmax')\n",
    "])\n",
    "\n",
    "model.compile(optimizer='adam',\n",
    "              loss='sparse_categorical_crossentropy',\n",
    "              metrics=['accuracy'])\n",
    "\n",
    "model.fit(training_images, training_labels, epochs=10, batch_size=64)\n",
    "test_loss, test_acc = model.evaluate(test_images, test_labels)\n",
    "print('Test accuracy:', test_acc)"
   ],
   "execution_count": 32,
   "outputs": [
    {
     "name": "stdout",
     "output_type": "stream",
     "text": [
      "2.11.1\n",
      "Epoch 1/10\n",
      "938/938 [==============================] - 16s 15ms/step - loss: 2.3027 - accuracy: 0.0994\n",
      "Epoch 2/10\n",
      "938/938 [==============================] - 19s 20ms/step - loss: 2.3027 - accuracy: 0.0984\n",
      "Epoch 3/10\n",
      "938/938 [==============================] - 16s 17ms/step - loss: 2.3027 - accuracy: 0.0987\n",
      "Epoch 4/10\n",
      "938/938 [==============================] - 15s 16ms/step - loss: 2.3027 - accuracy: 0.1006\n",
      "Epoch 5/10\n",
      "938/938 [==============================] - 15s 16ms/step - loss: 2.3027 - accuracy: 0.0999\n",
      "Epoch 6/10\n",
      "938/938 [==============================] - 12s 13ms/step - loss: 2.3027 - accuracy: 0.0984\n",
      "Epoch 7/10\n",
      "938/938 [==============================] - 12s 13ms/step - loss: 2.3027 - accuracy: 0.0984\n",
      "Epoch 8/10\n",
      "938/938 [==============================] - 14s 14ms/step - loss: 2.3027 - accuracy: 0.0983\n",
      "Epoch 9/10\n",
      "938/938 [==============================] - 14s 15ms/step - loss: 2.3027 - accuracy: 0.0992\n",
      "Epoch 10/10\n",
      "938/938 [==============================] - 14s 15ms/step - loss: 2.3027 - accuracy: 0.0995\n",
      "313/313 [==============================] - 1s 4ms/step - loss: 2.3026 - accuracy: 0.1000\n",
      "Test accuracy: 0.10000000149011612\n"
     ]
    }
   ]
  },
  {
   "cell_type": "code",
   "execution_count": 31,
   "outputs": [
    {
     "name": "stdout",
     "output_type": "stream",
     "text": [
      "2.11.1\n",
      "Epoch 1/10\n",
      "938/938 [==============================] - 14s 14ms/step - loss: 0.4953 - accuracy: 0.8195\n",
      "Epoch 2/10\n",
      "938/938 [==============================] - 15s 16ms/step - loss: 0.3788 - accuracy: 0.8643\n",
      "Epoch 3/10\n",
      "938/938 [==============================] - 16s 17ms/step - loss: 0.3371 - accuracy: 0.8779\n",
      "Epoch 4/10\n",
      "938/938 [==============================] - 15s 16ms/step - loss: 0.3153 - accuracy: 0.8836\n",
      "Epoch 5/10\n",
      "938/938 [==============================] - 16s 17ms/step - loss: 0.2984 - accuracy: 0.8913\n",
      "Epoch 6/10\n",
      "938/938 [==============================] - 13s 14ms/step - loss: 0.2837 - accuracy: 0.8955\n",
      "Epoch 7/10\n",
      "938/938 [==============================] - 12s 12ms/step - loss: 0.2735 - accuracy: 0.9000\n",
      "Epoch 8/10\n",
      "938/938 [==============================] - 14s 15ms/step - loss: 0.2587 - accuracy: 0.9039\n",
      "Epoch 9/10\n",
      "938/938 [==============================] - 13s 14ms/step - loss: 0.2498 - accuracy: 0.9080\n",
      "Epoch 10/10\n",
      "938/938 [==============================] - 12s 13ms/step - loss: 0.2429 - accuracy: 0.9094\n",
      "313/313 [==============================] - 1s 3ms/step - loss: 0.3388 - accuracy: 0.8855\n",
      "Test accuracy: 0.8855000138282776\n"
     ]
    }
   ],
   "source": [
    "## Inicializando con una variable aleatoria normal\n",
    "\n",
    "import tensorflow as tf\n",
    "print(tf.__version__)\n",
    "\n",
    "mnist = tf.keras.datasets.fashion_mnist\n",
    "(training_images, training_labels) ,  (test_images, test_labels) = mnist.load_data()\n",
    "training_images  = training_images / 255.0\n",
    "test_images = test_images / 255.0\n",
    "\n",
    "model = Sequential([\n",
    "    keras.layers.Flatten(input_shape=(28, 28)),\n",
    "    keras.layers.Dense(512, activation='relu', kernel_initializer='random_normal'),\n",
    "    keras.layers.Dense(512, activation='relu', kernel_initializer='random_normal'),\n",
    "    keras.layers.Dense(512, activation='relu', kernel_initializer='random_normal'),\n",
    "    keras.layers.Dense(512, activation='relu', kernel_initializer='random_normal'),\n",
    "    keras.layers.Dense(512, activation='relu', kernel_initializer='random_normal'),\n",
    "    keras.layers.Dense(10, activation='softmax')\n",
    "])\n",
    "\n",
    "model.compile(optimizer='adam',\n",
    "              loss='sparse_categorical_crossentropy',\n",
    "              metrics=['accuracy'])\n",
    "\n",
    "model.fit(training_images, training_labels, epochs=10, batch_size=64)\n",
    "test_loss, test_acc = model.evaluate(test_images, test_labels)\n",
    "print('Test accuracy:', test_acc)"
   ],
   "metadata": {
    "collapsed": false,
    "ExecuteTime": {
     "start_time": "2023-04-26T10:06:20.707035Z",
     "end_time": "2023-04-26T10:08:43.123910Z"
    }
   }
  },
  {
   "cell_type": "code",
   "execution_count": 33,
   "outputs": [
    {
     "name": "stdout",
     "output_type": "stream",
     "text": [
      "2.11.1\n",
      "Epoch 1/10\n",
      "938/938 [==============================] - 16s 15ms/step - loss: 0.5080 - accuracy: 0.8153\n",
      "Epoch 2/10\n",
      "938/938 [==============================] - 14s 15ms/step - loss: 0.3740 - accuracy: 0.8648\n",
      "Epoch 3/10\n",
      "938/938 [==============================] - 14s 15ms/step - loss: 0.3385 - accuracy: 0.8771\n",
      "Epoch 4/10\n",
      "938/938 [==============================] - 14s 15ms/step - loss: 0.3145 - accuracy: 0.8864\n",
      "Epoch 5/10\n",
      "938/938 [==============================] - 14s 15ms/step - loss: 0.2974 - accuracy: 0.8902\n",
      "Epoch 6/10\n",
      "938/938 [==============================] - 15s 16ms/step - loss: 0.2851 - accuracy: 0.8958\n",
      "Epoch 7/10\n",
      "938/938 [==============================] - 15s 16ms/step - loss: 0.2691 - accuracy: 0.8995\n",
      "Epoch 8/10\n",
      "938/938 [==============================] - 15s 16ms/step - loss: 0.2597 - accuracy: 0.9041\n",
      "Epoch 9/10\n",
      "938/938 [==============================] - 15s 16ms/step - loss: 0.2486 - accuracy: 0.9071\n",
      "Epoch 10/10\n",
      "938/938 [==============================] - 15s 15ms/step - loss: 0.2435 - accuracy: 0.9097\n",
      "313/313 [==============================] - 1s 3ms/step - loss: 0.3505 - accuracy: 0.8839\n",
      "Test accuracy: 0.883899986743927\n"
     ]
    }
   ],
   "source": [
    "## Inicializando con los valores por defecto de Keras para una capa Dense (estrategia glorot uniform)\n",
    "\n",
    "import tensorflow as tf\n",
    "print(tf.__version__)\n",
    "\n",
    "mnist = tf.keras.datasets.fashion_mnist\n",
    "(training_images, training_labels) ,  (test_images, test_labels) = mnist.load_data()\n",
    "training_images  = training_images / 255.0\n",
    "test_images = test_images / 255.0\n",
    "\n",
    "model = Sequential([\n",
    "    keras.layers.Flatten(input_shape=(28, 28)),\n",
    "    keras.layers.Dense(512, activation='relu', kernel_initializer='glorot_uniform'),\n",
    "    keras.layers.Dense(512, activation='relu', kernel_initializer='glorot_uniform'),\n",
    "    keras.layers.Dense(512, activation='relu', kernel_initializer='glorot_uniform'),\n",
    "    keras.layers.Dense(512, activation='relu', kernel_initializer='glorot_uniform'),\n",
    "    keras.layers.Dense(512, activation='relu', kernel_initializer='glorot_uniform'),\n",
    "    keras.layers.Dense(10, activation='softmax')\n",
    "])\n",
    "\n",
    "model.compile(optimizer='adam',\n",
    "              loss='sparse_categorical_crossentropy',\n",
    "              metrics=['accuracy'])\n",
    "\n",
    "model.fit(training_images, training_labels, epochs=10, batch_size=64)\n",
    "test_loss, test_acc = model.evaluate(test_images, test_labels)\n",
    "print('Test accuracy:', test_acc)"
   ],
   "metadata": {
    "collapsed": false,
    "ExecuteTime": {
     "start_time": "2023-04-26T10:12:36.448121Z",
     "end_time": "2023-04-26T10:16:02.960164Z"
    }
   }
  },
  {
   "cell_type": "markdown",
   "source": [
    "## Respuesta\n",
    "\n",
    "Resultados obtenidos:\n",
    "Inicializando con ceros\n",
    "* Training accuracy: 8%\n",
    "* Test accuracy: 10%\n",
    "\n",
    "Inicializando con una variable aleatoria normal\n",
    "* Training accuracy: 90%\n",
    "* Test accuracy: 88%\n",
    "\n",
    "Inicializando con los valores por defecto de Keras para una capa Dense (estrategia glorot uniform)\n",
    "* Training accuracy: 90%\n",
    "* Test accuracy: 88%\n",
    "\n",
    "De aquí podemos ver que la inicialización con ceros no es una buena estrategia, ya que no se consigue un buen accuracy. En cambio, inicializando con una variable aleatoria normal o con los valores por defecto de Keras para una capa Dense (estrategia glorot uniform) se consigue un buen accuracy, ya que se consigue un accuracy de 90% en el training set y de 88% en el test set.\n",
    "\n",
    "En la primera instancia, al inicializar el kernel con \"kernel_initializer='zeros'\", se establecen todos los pesos en cero, lo que implica que todas las neuronas de la red generan la misma salida. Esto causa una falta de diversidad en la información que fluye a través de la red, y el modelo es incapaz de aprender patrones complejos en los datos.\n",
    "\n"
   ],
   "metadata": {
    "collapsed": false
   }
  },
  {
   "cell_type": "markdown",
   "metadata": {
    "id": "NqIAyVWrTFqV"
   },
   "source": [
    "## 11. Optimizadores"
   ]
  },
  {
   "cell_type": "markdown",
   "metadata": {
    "id": "lcYj29hYTFqW"
   },
   "source": [
    "**Ejercicio 11 *(0.75 puntos)***: Partiendo de una red similar a la del ejercicio anterior (utilizando la mejor estrategia de inicialización observada), comparar y analizar las diferencias que se observan  al entrenar con varios de los optimizadores vistos en clase, incluyendo SGD como optimizador básico (se puede explorar el espacio de hiperparámetros de cada optimizador, aunque para optimizadores más avanzados del estilo de adam y RMSprop es buena idea dejar los valores por defecto provistos por Keras)."
   ]
  },
  {
   "cell_type": "code",
   "metadata": {
    "id": "0fWDiqXvTFqW",
    "ExecuteTime": {
     "start_time": "2023-04-26T10:45:19.198861Z",
     "end_time": "2023-04-26T10:47:12.184084Z"
    }
   },
   "source": [
    "## Prueba con SGD\n",
    "\n",
    "import tensorflow as tf\n",
    "print(tf.__version__)\n",
    "\n",
    "mnist = tf.keras.datasets.fashion_mnist\n",
    "(training_images, training_labels) ,  (test_images, test_labels) = mnist.load_data()\n",
    "training_images  = training_images / 255.0\n",
    "test_images = test_images / 255.0\n",
    "\n",
    "model = Sequential([\n",
    "    keras.layers.Flatten(input_shape=(28, 28)),\n",
    "    keras.layers.Dense(512, activation='relu', kernel_initializer='random_normal'),\n",
    "    keras.layers.Dense(512, activation='relu', kernel_initializer='random_normal'),\n",
    "    keras.layers.Dense(512, activation='relu', kernel_initializer='random_normal'),\n",
    "    keras.layers.Dense(512, activation='relu', kernel_initializer='random_normal'),\n",
    "    keras.layers.Dense(512, activation='relu', kernel_initializer='random_normal'),\n",
    "    keras.layers.Dense(10, activation='softmax')\n",
    "])\n",
    "\n",
    "model.compile(optimizer='SGD',\n",
    "              loss='sparse_categorical_crossentropy',\n",
    "              metrics=['accuracy'])\n",
    "\n",
    "model.fit(training_images, training_labels, epochs=10, batch_size=64)\n",
    "test_loss, test_acc = model.evaluate(test_images, test_labels)\n",
    "print('Test accuracy:', test_acc)"
   ],
   "execution_count": 37,
   "outputs": [
    {
     "name": "stdout",
     "output_type": "stream",
     "text": [
      "2.11.1\n",
      "Epoch 1/10\n",
      "938/938 [==============================] - 12s 12ms/step - loss: 0.7817 - accuracy: 0.7459\n",
      "Epoch 2/10\n",
      "938/938 [==============================] - 12s 13ms/step - loss: 0.4874 - accuracy: 0.8264\n",
      "Epoch 3/10\n",
      "938/938 [==============================] - 10s 11ms/step - loss: 0.4323 - accuracy: 0.8467\n",
      "Epoch 4/10\n",
      "938/938 [==============================] - 13s 14ms/step - loss: 0.3988 - accuracy: 0.8570\n",
      "Epoch 5/10\n",
      "938/938 [==============================] - 11s 12ms/step - loss: 0.3741 - accuracy: 0.8657\n",
      "Epoch 6/10\n",
      "938/938 [==============================] - 9s 10ms/step - loss: 0.3571 - accuracy: 0.8709\n",
      "Epoch 7/10\n",
      "938/938 [==============================] - 7s 7ms/step - loss: 0.3423 - accuracy: 0.8765\n",
      "Epoch 8/10\n",
      "938/938 [==============================] - 7s 7ms/step - loss: 0.3301 - accuracy: 0.8799\n",
      "Epoch 9/10\n",
      "938/938 [==============================] - 7s 8ms/step - loss: 0.3187 - accuracy: 0.8844\n",
      "Epoch 10/10\n",
      "938/938 [==============================] - 7s 7ms/step - loss: 0.3090 - accuracy: 0.8866\n",
      "313/313 [==============================] - 1s 3ms/step - loss: 0.3773 - accuracy: 0.8626\n",
      "Test accuracy: 0.8626000285148621\n"
     ]
    }
   ]
  },
  {
   "cell_type": "code",
   "execution_count": 48,
   "outputs": [
    {
     "name": "stdout",
     "output_type": "stream",
     "text": [
      "2.11.1\n",
      "Epoch 1/10\n",
      "938/938 [==============================] - 13s 13ms/step - loss: 0.4975 - accuracy: 0.8229\n",
      "Epoch 2/10\n",
      "938/938 [==============================] - 13s 14ms/step - loss: 0.3528 - accuracy: 0.8695\n",
      "Epoch 3/10\n",
      "938/938 [==============================] - 13s 13ms/step - loss: 0.3159 - accuracy: 0.8827\n",
      "Epoch 4/10\n",
      "938/938 [==============================] - 12s 13ms/step - loss: 0.2901 - accuracy: 0.8902\n",
      "Epoch 5/10\n",
      "938/938 [==============================] - 12s 13ms/step - loss: 0.2724 - accuracy: 0.8986\n",
      "Epoch 6/10\n",
      "938/938 [==============================] - 12s 13ms/step - loss: 0.2557 - accuracy: 0.9042\n",
      "Epoch 7/10\n",
      "938/938 [==============================] - 13s 13ms/step - loss: 0.2396 - accuracy: 0.9097\n",
      "Epoch 8/10\n",
      "938/938 [==============================] - 12s 13ms/step - loss: 0.2302 - accuracy: 0.9140\n",
      "Epoch 9/10\n",
      "938/938 [==============================] - 13s 14ms/step - loss: 0.2163 - accuracy: 0.9177\n",
      "Epoch 10/10\n",
      "938/938 [==============================] - 12s 13ms/step - loss: 0.2074 - accuracy: 0.9205\n",
      "313/313 [==============================] - 1s 3ms/step - loss: 0.3479 - accuracy: 0.8833\n",
      "Test accuracy: 0.8833000063896179\n"
     ]
    }
   ],
   "source": [
    "## Prueba con SGD con fine tuning\n",
    "\n",
    "import tensorflow as tf\n",
    "\n",
    "print(tf.__version__)\n",
    "\n",
    "mnist = tf.keras.datasets.fashion_mnist\n",
    "(training_images, training_labels), (test_images, test_labels) = mnist.load_data()\n",
    "training_images = training_images / 255.0\n",
    "test_images = test_images / 255.0\n",
    "\n",
    "opt = tf.keras.optimizers.experimental.SGD(learning_rate=0.01, momentum=0.9, nesterov=True)\n",
    "\n",
    "model = Sequential([\n",
    "    keras.layers.Flatten(input_shape=(28, 28)),\n",
    "    keras.layers.Dense(512, activation='relu', kernel_initializer='random_normal'),\n",
    "    keras.layers.Dense(512, activation='relu', kernel_initializer='random_normal'),\n",
    "    keras.layers.Dense(512, activation='relu', kernel_initializer='random_normal'),\n",
    "    keras.layers.Dense(512, activation='relu', kernel_initializer='random_normal'),\n",
    "    keras.layers.Dense(512, activation='relu', kernel_initializer='random_normal'),\n",
    "    keras.layers.Dense(10, activation='softmax')\n",
    "])\n",
    "\n",
    "model.compile(optimizer=opt,\n",
    "              loss='sparse_categorical_crossentropy',\n",
    "              metrics=['accuracy']\n",
    "              )\n",
    "\n",
    "model.fit(training_images, training_labels, epochs=10, batch_size=64)\n",
    "test_loss, test_acc = model.evaluate(test_images, test_labels)\n",
    "print('Test accuracy:', test_acc)\n"
   ],
   "metadata": {
    "collapsed": false,
    "ExecuteTime": {
     "start_time": "2023-04-26T11:05:50.267532Z",
     "end_time": "2023-04-26T11:07:59.478782Z"
    }
   }
  },
  {
   "cell_type": "code",
   "execution_count": 35,
   "outputs": [
    {
     "name": "stdout",
     "output_type": "stream",
     "text": [
      "2.11.1\n",
      "Epoch 1/10\n",
      "938/938 [==============================] - 18s 17ms/step - loss: 0.4933 - accuracy: 0.8217\n",
      "Epoch 2/10\n",
      "938/938 [==============================] - 17s 18ms/step - loss: 0.3738 - accuracy: 0.8648\n",
      "Epoch 3/10\n",
      "938/938 [==============================] - 17s 18ms/step - loss: 0.3361 - accuracy: 0.8767\n",
      "Epoch 4/10\n",
      "938/938 [==============================] - 15s 16ms/step - loss: 0.3135 - accuracy: 0.8857\n",
      "Epoch 5/10\n",
      "938/938 [==============================] - 15s 16ms/step - loss: 0.2954 - accuracy: 0.8922\n",
      "Epoch 6/10\n",
      "938/938 [==============================] - 14s 15ms/step - loss: 0.2814 - accuracy: 0.8969\n",
      "Epoch 7/10\n",
      "938/938 [==============================] - 16s 17ms/step - loss: 0.2698 - accuracy: 0.9009\n",
      "Epoch 8/10\n",
      "938/938 [==============================] - 17s 18ms/step - loss: 0.2629 - accuracy: 0.9033\n",
      "Epoch 9/10\n",
      "938/938 [==============================] - 16s 17ms/step - loss: 0.2473 - accuracy: 0.9079\n",
      "Epoch 10/10\n",
      "938/938 [==============================] - 12s 13ms/step - loss: 0.2372 - accuracy: 0.9107\n",
      "313/313 [==============================] - 1s 3ms/step - loss: 0.3526 - accuracy: 0.8814\n",
      "Test accuracy: 0.8813999891281128\n"
     ]
    }
   ],
   "source": [
    "# Prueba con Adam\n",
    "\n",
    "import tensorflow as tf\n",
    "print(tf.__version__)\n",
    "\n",
    "mnist = tf.keras.datasets.fashion_mnist\n",
    "(training_images, training_labels) ,  (test_images, test_labels) = mnist.load_data()\n",
    "training_images  = training_images / 255.0\n",
    "test_images = test_images / 255.0\n",
    "\n",
    "model = Sequential([\n",
    "    keras.layers.Flatten(input_shape=(28, 28)),\n",
    "    keras.layers.Dense(512, activation='relu', kernel_initializer='random_normal'),\n",
    "    keras.layers.Dense(512, activation='relu', kernel_initializer='random_normal'),\n",
    "    keras.layers.Dense(512, activation='relu', kernel_initializer='random_normal'),\n",
    "    keras.layers.Dense(512, activation='relu', kernel_initializer='random_normal'),\n",
    "    keras.layers.Dense(512, activation='relu', kernel_initializer='random_normal'),\n",
    "    keras.layers.Dense(10, activation='softmax')\n",
    "])\n",
    "\n",
    "model.compile(optimizer='adam',\n",
    "              loss='sparse_categorical_crossentropy',\n",
    "              metrics=['accuracy'])\n",
    "\n",
    "model.fit(training_images, training_labels, epochs=10, batch_size=64)\n",
    "test_loss, test_acc = model.evaluate(test_images, test_labels)\n",
    "print('Test accuracy:', test_acc)"
   ],
   "metadata": {
    "collapsed": false,
    "ExecuteTime": {
     "start_time": "2023-04-26T10:28:53.464677Z",
     "end_time": "2023-04-26T10:31:34.100758Z"
    }
   }
  },
  {
   "cell_type": "markdown",
   "source": [
    "Sin mucho fine tunning, usando los optimizadores con sus valores por defecto, se obtienen los siguientes resultados:\n",
    "SGD    -->  Training accuracy: 88% y Test accuracy: 85%\n",
    "SGD FT --> Training accuracy: 92% y Test accuracy: 88%\n",
    "Adam   --> Training accuracy: 91% y Test accuracy: 88%\n",
    "\n",
    "He probado muchos valores, y he encontrado que el mejor optimizador es SGD con fine tunning, con los siguientes valores: learning_rate=0.01, momentum=0.9, nesterov=True. Con estos valores, se obtiene un accuracy de 92% en el training set y 88% en el test set.\n",
    "\n",
    "La mejora es muy pequeña con respecto a lo que obtenemos con Adam, y el trabajo es grande. Dependiendo del caso, normalmente usaremos ADAM."
   ],
   "metadata": {
    "collapsed": false
   }
  },
  {
   "cell_type": "markdown",
   "metadata": {
    "id": "BkfTFoJOTFqZ"
   },
   "source": [
    "## 12. Regularización y red final "
   ]
  },
  {
   "cell_type": "markdown",
   "metadata": {
    "id": "f6CQhK7ZTFqZ"
   },
   "source": [
    "**Ejercicio 12 *(1 punto)***: Entrenar una red final que sea capaz de obtener una accuracy en el validation set cercana al 90%. Para ello, combinar todo lo aprendido anteriormente y utilizar técnicas de regularización para evitar overfitting. Algunos de los elementos que pueden tenerse en cuenta son los siguientes.\n",
    "\n",
    "* Número de capas y neuronas por capa\n",
    "* Optimizadores y sus parámetros\n",
    "* Batch size\n",
    "* Unidades de activación\n",
    "* Uso de capas dropout, regularización L2, regularización L1...\n",
    "* Early stopping (se puede aplicar como un callback de Keras, o se puede ver un poco \"a ojo\" cuándo el modelo empieza a caer en overfitting y seleccionar el número de epochs necesarias)\n",
    "* Batch normalization\n",
    "\n",
    "Si los modelos entrenados anteriormente ya se acercaban al valor requerido de accuracy, probar distintas estrategias igualmente y comentar los resultados.\n",
    "\n",
    "Explicar brevemente la estrategia seguida y los modelos probados para obtener el modelo final, que debe verse entrenado en este Notebook. No es necesario guardar el entrenamiento de todos los modelos que se han probado, es suficiente con explicar cómo se ha llegado al modelo final."
   ]
  },
  {
   "cell_type": "code",
   "metadata": {
    "id": "AUJ5AtunTFqa",
    "ExecuteTime": {
     "start_time": "2023-04-26T11:54:20.626995Z",
     "end_time": "2023-04-26T12:06:38.751658Z"
    },
    "pycharm": {
     "is_executing": true
    }
   },
   "source": [
    "## Tu modelo y comentarios de texto aquí\n",
    "\n",
    "import tensorflow as tf\n",
    "from tensorflow import keras\n",
    "from tensorflow.keras import layers\n",
    "from tensorflow.keras import regularizers\n",
    "from tensorflow.keras.callbacks import EarlyStopping\n",
    "from sklearn.model_selection import GridSearchCV\n",
    "from keras.wrappers.scikit_learn import KerasClassifier\n",
    "import numpy as np\n",
    "\n",
    "# Cargar el dataset\n",
    "(x_train, y_train), (x_val, y_val) = keras.datasets.fashion_mnist.load_data()\n",
    "\n",
    "# Preprocesar los datos\n",
    "x_train = x_train.reshape(-1, 28*28) / 255.0\n",
    "x_val = x_val.reshape(-1, 28*28) / 255.0\n",
    "y_train = keras.utils.to_categorical(y_train)\n",
    "y_val = keras.utils.to_categorical(y_val)\n",
    "\n",
    "# Definir la arquitectura de la red neuronal\n",
    "def create_model(hidden_layers=3, units=512, activation='relu', optimizer='adam', l2=0.0, dropout=0.0):\n",
    "    model = keras.Sequential()\n",
    "    model.add(layers.Input(shape=(28*28,)))\n",
    "    model.add(layers.Flatten())\n",
    "    for i in range(hidden_layers):\n",
    "        model.add(layers.Dense(units, activation=activation, kernel_regularizer=regularizers.l2(l2)))\n",
    "        model.add(layers.Dropout(dropout))\n",
    "    model.add(layers.Dense(10, activation='softmax'))\n",
    "    model.compile(optimizer=optimizer, loss='categorical_crossentropy', metrics=['accuracy'])\n",
    "    return model\n",
    "\n",
    "# Crear un modelo Keras para utilizar con GridSearchCV\n",
    "model = KerasClassifier(build_fn=create_model)\n",
    "\n",
    "# Definir los hiperparámetros a ajustar\n",
    "param_grid = {\n",
    "    'hidden_layers': [2, 3],\n",
    "    'units': [256, 512, 1024],\n",
    "    'activation': ['relu', 'selu'],\n",
    "    'optimizer': ['adam', 'sgd'],\n",
    "    'l2': [0.0, 0.001, 0.01],\n",
    "    'dropout': [0.0, 0.1, 0.2],\n",
    "    'batch_size': [32, 64],\n",
    "    'epochs': [50, 100]\n",
    "}\n",
    "\n",
    "# Realizar una búsqueda en cuadrícula para encontrar los mejores hiperparámetros\n",
    "grid = GridSearchCV(estimator=model, param_grid=param_grid, cv=3)\n",
    "grid_result = grid.fit(x_train, y_train)\n",
    "\n",
    "# Imprimir los resultados de la búsqueda en cuadrícula\n",
    "print(\"Best: %f using %s\" % (grid_result.best_score_, grid_result.best_params_))\n",
    "\n",
    "# Entrenar el modelo con los mejores hiperparámetros\n",
    "best_model = create_model(**grid_result.best_params_)\n",
    "early_stop = EarlyStopping(monitor='val_loss', patience=5)\n",
    "history = best_model.fit(x_train, y_train, epochs=grid_result.best_params_['epochs'], batch_size=grid_result.best_params_['batch_size'], validation_data=(x_val, y_val), callbacks=[early_stop])\n",
    "\n",
    "# Evaluar el modelo en el conjunto de validación\n",
    "loss, acc = best_model.evaluate(x_val, y_val)\n",
    "print('Validation accuracy:', acc)\n",
    "\n",
    "## Graficar la curva de aprendizaje\n",
    "import matplotlib.pyplot as plt\n",
    "\n",
    "plt.plot(history.history['accuracy'])\n",
    "plt.plot(history.history['val_accuracy'])\n",
    "plt.title('Curva de aprendizaje')\n",
    "plt.ylabel('Accuracy')\n",
    "plt.xlabel('Epoch')\n",
    "plt.legend(['Train', 'Validation'], loc='upper left')\n",
    "plt.show()"
   ],
   "execution_count": null,
   "outputs": [
    {
     "name": "stderr",
     "output_type": "stream",
     "text": [
      "<ipython-input-58-7f6cc5436b64>:34: DeprecationWarning: KerasClassifier is deprecated, use Sci-Keras (https://github.com/adriangb/scikeras) instead. See https://www.adriangb.com/scikeras/stable/migration.html for help migrating.\n",
      "  model = KerasClassifier(build_fn=create_model)\n"
     ]
    },
    {
     "name": "stdout",
     "output_type": "stream",
     "text": [
      "Epoch 1/50\n",
      "1250/1250 [==============================] - 9s 6ms/step - loss: 0.5021 - accuracy: 0.8190\n",
      "Epoch 2/50\n",
      "1250/1250 [==============================] - 8s 6ms/step - loss: 0.3791 - accuracy: 0.8607\n",
      "Epoch 3/50\n",
      "1250/1250 [==============================] - 8s 6ms/step - loss: 0.3408 - accuracy: 0.8753\n",
      "Epoch 4/50\n",
      "1250/1250 [==============================] - 8s 6ms/step - loss: 0.3184 - accuracy: 0.8842\n",
      "Epoch 5/50\n",
      "1250/1250 [==============================] - 10s 8ms/step - loss: 0.2941 - accuracy: 0.8914\n",
      "Epoch 6/50\n",
      "1250/1250 [==============================] - 9s 7ms/step - loss: 0.2790 - accuracy: 0.8963\n",
      "Epoch 7/50\n",
      "1250/1250 [==============================] - 7s 6ms/step - loss: 0.2652 - accuracy: 0.9009\n",
      "Epoch 8/50\n",
      "1250/1250 [==============================] - 7s 6ms/step - loss: 0.2528 - accuracy: 0.9050\n",
      "Epoch 9/50\n",
      "1250/1250 [==============================] - 6s 5ms/step - loss: 0.2411 - accuracy: 0.9084\n",
      "Epoch 10/50\n",
      "1250/1250 [==============================] - 6s 4ms/step - loss: 0.2323 - accuracy: 0.9136\n",
      "Epoch 11/50\n",
      "1250/1250 [==============================] - 5s 4ms/step - loss: 0.2197 - accuracy: 0.9158\n",
      "Epoch 12/50\n",
      "1250/1250 [==============================] - 5s 4ms/step - loss: 0.2120 - accuracy: 0.9186\n",
      "Epoch 13/50\n",
      "1250/1250 [==============================] - 6s 5ms/step - loss: 0.2014 - accuracy: 0.9240\n",
      "Epoch 14/50\n",
      "1250/1250 [==============================] - 6s 5ms/step - loss: 0.1966 - accuracy: 0.9245\n",
      "Epoch 15/50\n",
      "1250/1250 [==============================] - 5s 4ms/step - loss: 0.1860 - accuracy: 0.9288\n",
      "Epoch 16/50\n",
      "1250/1250 [==============================] - 5s 4ms/step - loss: 0.1799 - accuracy: 0.9314\n",
      "Epoch 17/50\n",
      "1250/1250 [==============================] - 6s 5ms/step - loss: 0.1768 - accuracy: 0.9323\n",
      "Epoch 18/50\n",
      "1250/1250 [==============================] - 6s 5ms/step - loss: 0.1691 - accuracy: 0.9349\n",
      "Epoch 19/50\n",
      "1250/1250 [==============================] - 6s 4ms/step - loss: 0.1605 - accuracy: 0.9384\n",
      "Epoch 20/50\n",
      "1250/1250 [==============================] - 5s 4ms/step - loss: 0.1581 - accuracy: 0.9389\n",
      "Epoch 21/50\n",
      "1250/1250 [==============================] - 5s 4ms/step - loss: 0.1550 - accuracy: 0.9416\n",
      "Epoch 22/50\n",
      "1250/1250 [==============================] - 6s 5ms/step - loss: 0.1462 - accuracy: 0.9422\n",
      "Epoch 23/50\n",
      "1250/1250 [==============================] - 5s 4ms/step - loss: 0.1457 - accuracy: 0.9453\n",
      "Epoch 24/50\n",
      "1250/1250 [==============================] - 6s 5ms/step - loss: 0.1368 - accuracy: 0.9468\n",
      "Epoch 25/50\n",
      "1250/1250 [==============================] - 6s 5ms/step - loss: 0.1373 - accuracy: 0.9474\n",
      "Epoch 26/50\n",
      "1250/1250 [==============================] - 5s 4ms/step - loss: 0.1321 - accuracy: 0.9487\n",
      "Epoch 27/50\n",
      "1250/1250 [==============================] - 5s 4ms/step - loss: 0.1303 - accuracy: 0.9500\n",
      "Epoch 28/50\n",
      "1250/1250 [==============================] - 5s 4ms/step - loss: 0.1244 - accuracy: 0.9518\n",
      "Epoch 29/50\n",
      "1250/1250 [==============================] - 6s 5ms/step - loss: 0.1204 - accuracy: 0.9540\n",
      "Epoch 30/50\n",
      "1250/1250 [==============================] - 5s 4ms/step - loss: 0.1175 - accuracy: 0.9553\n",
      "Epoch 31/50\n",
      "1250/1250 [==============================] - 5s 4ms/step - loss: 0.1133 - accuracy: 0.9560\n",
      "Epoch 32/50\n",
      "1250/1250 [==============================] - 5s 4ms/step - loss: 0.1104 - accuracy: 0.9570\n",
      "Epoch 33/50\n",
      "1250/1250 [==============================] - 5s 4ms/step - loss: 0.1100 - accuracy: 0.9578\n",
      "Epoch 34/50\n",
      "1250/1250 [==============================] - 5s 4ms/step - loss: 0.1080 - accuracy: 0.9584\n",
      "Epoch 35/50\n",
      "1250/1250 [==============================] - 6s 5ms/step - loss: 0.1017 - accuracy: 0.9611\n",
      "Epoch 36/50\n",
      "1250/1250 [==============================] - 6s 4ms/step - loss: 0.1035 - accuracy: 0.9608\n",
      "Epoch 37/50\n",
      "1250/1250 [==============================] - 5s 4ms/step - loss: 0.0988 - accuracy: 0.9616\n",
      "Epoch 38/50\n",
      "1250/1250 [==============================] - 5s 4ms/step - loss: 0.0947 - accuracy: 0.9635\n",
      "Epoch 39/50\n",
      "1250/1250 [==============================] - 5s 4ms/step - loss: 0.0984 - accuracy: 0.9626\n",
      "Epoch 40/50\n",
      "1250/1250 [==============================] - 6s 4ms/step - loss: 0.0875 - accuracy: 0.9670\n",
      "Epoch 41/50\n",
      "1250/1250 [==============================] - 5s 4ms/step - loss: 0.0883 - accuracy: 0.9656\n",
      "Epoch 42/50\n",
      "1250/1250 [==============================] - 5s 4ms/step - loss: 0.0917 - accuracy: 0.9668\n",
      "Epoch 43/50\n",
      "1250/1250 [==============================] - 5s 4ms/step - loss: 0.0812 - accuracy: 0.9682\n",
      "Epoch 44/50\n",
      "1250/1250 [==============================] - 5s 4ms/step - loss: 0.0872 - accuracy: 0.9674\n",
      "Epoch 45/50\n",
      "1250/1250 [==============================] - 10s 8ms/step - loss: 0.0832 - accuracy: 0.9675\n",
      "Epoch 46/50\n",
      "1250/1250 [==============================] - 7s 6ms/step - loss: 0.0777 - accuracy: 0.9707\n",
      "Epoch 47/50\n",
      "1250/1250 [==============================] - 6s 5ms/step - loss: 0.0796 - accuracy: 0.9688\n",
      "Epoch 48/50\n",
      "1250/1250 [==============================] - 6s 5ms/step - loss: 0.0747 - accuracy: 0.9718\n",
      "Epoch 49/50\n",
      "1250/1250 [==============================] - 7s 5ms/step - loss: 0.0743 - accuracy: 0.9713\n",
      "Epoch 50/50\n",
      "1250/1250 [==============================] - 8s 7ms/step - loss: 0.0750 - accuracy: 0.9710\n",
      "625/625 [==============================] - 2s 4ms/step - loss: 0.6376 - accuracy: 0.8856\n",
      "Epoch 1/50\n",
      "1250/1250 [==============================] - 9s 6ms/step - loss: 0.5095 - accuracy: 0.8153\n",
      "Epoch 2/50\n",
      "1250/1250 [==============================] - 6s 5ms/step - loss: 0.3795 - accuracy: 0.8597\n",
      "Epoch 3/50\n",
      "1250/1250 [==============================] - 6s 5ms/step - loss: 0.3399 - accuracy: 0.8745\n",
      "Epoch 4/50\n",
      "1250/1250 [==============================] - 5s 4ms/step - loss: 0.3175 - accuracy: 0.8826\n",
      "Epoch 5/50\n",
      "1250/1250 [==============================] - 5s 4ms/step - loss: 0.2922 - accuracy: 0.8903\n",
      "Epoch 6/50\n",
      "1250/1250 [==============================] - 6s 5ms/step - loss: 0.2798 - accuracy: 0.8939\n",
      "Epoch 7/50\n",
      "1250/1250 [==============================] - 6s 4ms/step - loss: 0.2657 - accuracy: 0.8987\n",
      "Epoch 8/50\n",
      "1250/1250 [==============================] - 5s 4ms/step - loss: 0.2535 - accuracy: 0.9019\n",
      "Epoch 9/50\n",
      "1250/1250 [==============================] - 5s 4ms/step - loss: 0.2426 - accuracy: 0.9076\n",
      "Epoch 10/50\n",
      "1250/1250 [==============================] - 5s 4ms/step - loss: 0.2334 - accuracy: 0.9112\n",
      "Epoch 11/50\n",
      "1250/1250 [==============================] - 7s 5ms/step - loss: 0.2230 - accuracy: 0.9144\n",
      "Epoch 12/50\n",
      "1250/1250 [==============================] - 7s 6ms/step - loss: 0.2147 - accuracy: 0.9171\n",
      "Epoch 13/50\n",
      "1250/1250 [==============================] - 5s 4ms/step - loss: 0.2058 - accuracy: 0.9207\n",
      "Epoch 14/50\n",
      "1250/1250 [==============================] - 4s 3ms/step - loss: 0.1976 - accuracy: 0.9245\n",
      "Epoch 15/50\n",
      "1250/1250 [==============================] - 3s 3ms/step - loss: 0.1928 - accuracy: 0.9263\n",
      "Epoch 16/50\n",
      "1250/1250 [==============================] - 4s 3ms/step - loss: 0.1830 - accuracy: 0.9298\n",
      "Epoch 17/50\n",
      "1250/1250 [==============================] - 4s 3ms/step - loss: 0.1747 - accuracy: 0.9330\n",
      "Epoch 18/50\n",
      "1250/1250 [==============================] - 4s 3ms/step - loss: 0.1709 - accuracy: 0.9334\n",
      "Epoch 19/50\n",
      "1250/1250 [==============================] - 3s 3ms/step - loss: 0.1643 - accuracy: 0.9369\n",
      "Epoch 20/50\n",
      "1250/1250 [==============================] - 3s 3ms/step - loss: 0.1605 - accuracy: 0.9372\n",
      "Epoch 21/50\n",
      "1250/1250 [==============================] - 3s 3ms/step - loss: 0.1525 - accuracy: 0.9409\n",
      "Epoch 22/50\n",
      "1250/1250 [==============================] - 3s 3ms/step - loss: 0.1454 - accuracy: 0.9437\n",
      "Epoch 23/50\n",
      "1250/1250 [==============================] - 3s 3ms/step - loss: 0.1464 - accuracy: 0.9433\n",
      "Epoch 24/50\n",
      "1250/1250 [==============================] - 3s 3ms/step - loss: 0.1412 - accuracy: 0.9452\n",
      "Epoch 25/50\n",
      "1250/1250 [==============================] - 3s 3ms/step - loss: 0.1336 - accuracy: 0.9474\n",
      "Epoch 26/50\n",
      "1250/1250 [==============================] - 3s 3ms/step - loss: 0.1328 - accuracy: 0.9488\n",
      "Epoch 27/50\n",
      "1250/1250 [==============================] - 3s 3ms/step - loss: 0.1257 - accuracy: 0.9518\n",
      "Epoch 28/50\n",
      "1250/1250 [==============================] - 4s 3ms/step - loss: 0.1248 - accuracy: 0.9510\n",
      "Epoch 29/50\n",
      "1250/1250 [==============================] - 3s 3ms/step - loss: 0.1165 - accuracy: 0.9556\n",
      "Epoch 30/50\n",
      "1250/1250 [==============================] - 3s 3ms/step - loss: 0.1181 - accuracy: 0.9542\n",
      "Epoch 31/50\n",
      "1250/1250 [==============================] - 3s 3ms/step - loss: 0.1140 - accuracy: 0.9567\n",
      "Epoch 32/50\n",
      "1250/1250 [==============================] - 3s 3ms/step - loss: 0.1105 - accuracy: 0.9570\n",
      "Epoch 33/50\n",
      "1250/1250 [==============================] - 3s 3ms/step - loss: 0.1080 - accuracy: 0.9590\n",
      "Epoch 34/50\n",
      "1250/1250 [==============================] - 3s 3ms/step - loss: 0.1042 - accuracy: 0.9592\n",
      "Epoch 35/50\n",
      "1250/1250 [==============================] - 3s 3ms/step - loss: 0.1016 - accuracy: 0.9607\n",
      "Epoch 36/50\n",
      "1250/1250 [==============================] - 3s 3ms/step - loss: 0.0958 - accuracy: 0.9625\n",
      "Epoch 37/50\n",
      "1250/1250 [==============================] - 3s 3ms/step - loss: 0.1016 - accuracy: 0.9611\n",
      "Epoch 38/50\n",
      "1250/1250 [==============================] - 3s 3ms/step - loss: 0.0931 - accuracy: 0.9629\n",
      "Epoch 39/50\n",
      "1250/1250 [==============================] - 3s 3ms/step - loss: 0.0941 - accuracy: 0.9640\n",
      "Epoch 40/50\n",
      "1250/1250 [==============================] - 3s 3ms/step - loss: 0.0889 - accuracy: 0.9647\n",
      "Epoch 41/50\n",
      "1250/1250 [==============================] - 3s 3ms/step - loss: 0.0886 - accuracy: 0.9658\n",
      "Epoch 42/50\n",
      "1250/1250 [==============================] - 3s 3ms/step - loss: 0.0855 - accuracy: 0.9676\n",
      "Epoch 43/50\n",
      "1250/1250 [==============================] - 3s 3ms/step - loss: 0.0865 - accuracy: 0.9661\n",
      "Epoch 44/50\n",
      "1250/1250 [==============================] - 3s 3ms/step - loss: 0.0859 - accuracy: 0.9661\n",
      "Epoch 45/50\n",
      "1250/1250 [==============================] - 3s 3ms/step - loss: 0.0804 - accuracy: 0.9687\n",
      "Epoch 46/50\n",
      "1250/1250 [==============================] - 3s 3ms/step - loss: 0.0804 - accuracy: 0.9696\n",
      "Epoch 47/50\n",
      "1250/1250 [==============================] - 3s 3ms/step - loss: 0.0766 - accuracy: 0.9709\n",
      "Epoch 48/50\n",
      "1250/1250 [==============================] - 3s 3ms/step - loss: 0.0763 - accuracy: 0.9714\n",
      "Epoch 49/50\n",
      "1250/1250 [==============================] - 3s 3ms/step - loss: 0.0794 - accuracy: 0.9709\n",
      "Epoch 50/50\n",
      "1250/1250 [==============================] - 3s 3ms/step - loss: 0.0729 - accuracy: 0.9725\n",
      "625/625 [==============================] - 1s 1ms/step - loss: 0.7077 - accuracy: 0.8917\n",
      "Epoch 1/50\n",
      "1250/1250 [==============================] - 4s 3ms/step - loss: 0.5069 - accuracy: 0.8170\n",
      "Epoch 2/50\n",
      "1250/1250 [==============================] - 3s 3ms/step - loss: 0.3758 - accuracy: 0.8621\n",
      "Epoch 3/50\n",
      "1250/1250 [==============================] - 3s 3ms/step - loss: 0.3390 - accuracy: 0.8757\n",
      "Epoch 4/50\n",
      "1250/1250 [==============================] - 3s 3ms/step - loss: 0.3109 - accuracy: 0.8838\n",
      "Epoch 5/50\n",
      "1250/1250 [==============================] - 3s 3ms/step - loss: 0.2926 - accuracy: 0.8902\n",
      "Epoch 6/50\n",
      "1250/1250 [==============================] - 3s 3ms/step - loss: 0.2755 - accuracy: 0.8967\n",
      "Epoch 7/50\n",
      "1250/1250 [==============================] - 3s 3ms/step - loss: 0.2621 - accuracy: 0.9004\n",
      "Epoch 8/50\n",
      "1250/1250 [==============================] - 3s 3ms/step - loss: 0.2502 - accuracy: 0.9054\n",
      "Epoch 9/50\n",
      "1250/1250 [==============================] - 3s 3ms/step - loss: 0.2362 - accuracy: 0.9110\n",
      "Epoch 10/50\n",
      "1250/1250 [==============================] - 3s 3ms/step - loss: 0.2247 - accuracy: 0.9139\n",
      "Epoch 11/50\n",
      "1250/1250 [==============================] - 3s 3ms/step - loss: 0.2160 - accuracy: 0.9184\n",
      "Epoch 12/50\n",
      "1250/1250 [==============================] - 3s 3ms/step - loss: 0.2076 - accuracy: 0.9213\n",
      "Epoch 13/50\n",
      "1250/1250 [==============================] - 3s 3ms/step - loss: 0.2020 - accuracy: 0.9221\n",
      "Epoch 14/50\n",
      "1250/1250 [==============================] - 3s 3ms/step - loss: 0.1927 - accuracy: 0.9262\n",
      "Epoch 15/50\n",
      "1250/1250 [==============================] - 3s 3ms/step - loss: 0.1844 - accuracy: 0.9288\n",
      "Epoch 16/50\n",
      "1250/1250 [==============================] - 3s 3ms/step - loss: 0.1804 - accuracy: 0.9305\n",
      "Epoch 17/50\n",
      "1250/1250 [==============================] - 4s 3ms/step - loss: 0.1714 - accuracy: 0.9349\n",
      "Epoch 18/50\n",
      "1250/1250 [==============================] - 4s 3ms/step - loss: 0.1664 - accuracy: 0.9367\n",
      "Epoch 19/50\n",
      "1250/1250 [==============================] - 4s 3ms/step - loss: 0.1640 - accuracy: 0.9366\n",
      "Epoch 20/50\n",
      "1250/1250 [==============================] - 4s 3ms/step - loss: 0.1533 - accuracy: 0.9406\n",
      "Epoch 21/50\n",
      "1250/1250 [==============================] - 5s 4ms/step - loss: 0.1500 - accuracy: 0.9421\n",
      "Epoch 22/50\n",
      "1250/1250 [==============================] - 4s 4ms/step - loss: 0.1480 - accuracy: 0.9434\n",
      "Epoch 23/50\n",
      "1250/1250 [==============================] - 4s 4ms/step - loss: 0.1393 - accuracy: 0.9455\n",
      "Epoch 24/50\n",
      "1250/1250 [==============================] - 4s 4ms/step - loss: 0.1341 - accuracy: 0.9487\n",
      "Epoch 25/50\n",
      " 693/1250 [===============>..............] - ETA: 2s - loss: 0.1366 - accuracy: 0.9483"
     ]
    }
   ]
  },
  {
   "cell_type": "code",
   "execution_count": null,
   "outputs": [],
   "source": [],
   "metadata": {
    "collapsed": false
   }
  }
 ]
}
